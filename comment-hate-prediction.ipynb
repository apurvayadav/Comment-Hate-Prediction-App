{
 "cells": [
  {
   "cell_type": "markdown",
   "id": "89b04c12",
   "metadata": {
    "papermill": {
     "duration": 0.012353,
     "end_time": "2023-02-21T05:31:23.172559",
     "exception": false,
     "start_time": "2023-02-21T05:31:23.160206",
     "status": "completed"
    },
    "tags": []
   },
   "source": [
    "## Libraries"
   ]
  },
  {
   "cell_type": "code",
   "execution_count": 1,
   "id": "d40278e1",
   "metadata": {
    "_cell_guid": "b1076dfc-b9ad-4769-8c92-a6c4dae69d19",
    "_uuid": "8f2839f25d086af736a60e9eeb907d3b93b6e0e5",
    "execution": {
     "iopub.execute_input": "2023-02-21T05:31:23.196692Z",
     "iopub.status.busy": "2023-02-21T05:31:23.195888Z",
     "iopub.status.idle": "2023-02-21T05:31:30.736626Z",
     "shell.execute_reply": "2023-02-21T05:31:30.735541Z"
    },
    "papermill": {
     "duration": 7.555849,
     "end_time": "2023-02-21T05:31:30.739652",
     "exception": false,
     "start_time": "2023-02-21T05:31:23.183803",
     "status": "completed"
    },
    "tags": []
   },
   "outputs": [],
   "source": [
    "import os\n",
    "import pandas as pd\n",
    "import numpy as np\n",
    "import tensorflow as tf\n",
    "\n",
    "# setting the column width to none to display full text of the comment\n",
    "pd.set_option('display.max_colwidth', None)\n",
    "\n",
    "# setting up GPUs\n",
    "gpus = tf.config.experimental.list_physical_devices('GPU')\n",
    "for gpu in gpus:\n",
    "    tf.config.experimental.set_memory_growth(gpu, True)"
   ]
  },
  {
   "cell_type": "markdown",
   "id": "a34d5113",
   "metadata": {
    "papermill": {
     "duration": 0.010967,
     "end_time": "2023-02-21T05:31:30.762622",
     "exception": false,
     "start_time": "2023-02-21T05:31:30.751655",
     "status": "completed"
    },
    "tags": []
   },
   "source": [
    "## Importing Data\n"
   ]
  },
  {
   "cell_type": "code",
   "execution_count": 2,
   "id": "007a0089",
   "metadata": {
    "execution": {
     "iopub.execute_input": "2023-02-21T05:31:30.786717Z",
     "iopub.status.busy": "2023-02-21T05:31:30.785411Z",
     "iopub.status.idle": "2023-02-21T05:31:32.452600Z",
     "shell.execute_reply": "2023-02-21T05:31:32.451452Z"
    },
    "papermill": {
     "duration": 1.682078,
     "end_time": "2023-02-21T05:31:32.455467",
     "exception": false,
     "start_time": "2023-02-21T05:31:30.773389",
     "status": "completed"
    },
    "tags": []
   },
   "outputs": [],
   "source": [
    "data = pd.read_csv(\"/kaggle/input/jigsaw-toxic-comment-classification-challenge/train.csv.zip\")"
   ]
  },
  {
   "cell_type": "code",
   "execution_count": 3,
   "id": "fbf69a12",
   "metadata": {
    "execution": {
     "iopub.execute_input": "2023-02-21T05:31:32.481508Z",
     "iopub.status.busy": "2023-02-21T05:31:32.480498Z",
     "iopub.status.idle": "2023-02-21T05:31:32.527970Z",
     "shell.execute_reply": "2023-02-21T05:31:32.526663Z"
    },
    "papermill": {
     "duration": 0.063962,
     "end_time": "2023-02-21T05:31:32.531548",
     "exception": false,
     "start_time": "2023-02-21T05:31:32.467586",
     "status": "completed"
    },
    "tags": []
   },
   "outputs": [
    {
     "name": "stdout",
     "output_type": "stream",
     "text": [
      "<class 'pandas.core.frame.DataFrame'>\n",
      "RangeIndex: 159571 entries, 0 to 159570\n",
      "Data columns (total 8 columns):\n",
      " #   Column         Non-Null Count   Dtype \n",
      "---  ------         --------------   ----- \n",
      " 0   id             159571 non-null  object\n",
      " 1   comment_text   159571 non-null  object\n",
      " 2   toxic          159571 non-null  int64 \n",
      " 3   severe_toxic   159571 non-null  int64 \n",
      " 4   obscene        159571 non-null  int64 \n",
      " 5   threat         159571 non-null  int64 \n",
      " 6   insult         159571 non-null  int64 \n",
      " 7   identity_hate  159571 non-null  int64 \n",
      "dtypes: int64(6), object(2)\n",
      "memory usage: 9.7+ MB\n"
     ]
    }
   ],
   "source": [
    "data.info()"
   ]
  },
  {
   "cell_type": "code",
   "execution_count": 4,
   "id": "8b9bd871",
   "metadata": {
    "execution": {
     "iopub.execute_input": "2023-02-21T05:31:32.555306Z",
     "iopub.status.busy": "2023-02-21T05:31:32.555020Z",
     "iopub.status.idle": "2023-02-21T05:31:32.577634Z",
     "shell.execute_reply": "2023-02-21T05:31:32.575663Z"
    },
    "papermill": {
     "duration": 0.037029,
     "end_time": "2023-02-21T05:31:32.579738",
     "exception": false,
     "start_time": "2023-02-21T05:31:32.542709",
     "status": "completed"
    },
    "tags": []
   },
   "outputs": [
    {
     "data": {
      "text/html": [
       "<div>\n",
       "<style scoped>\n",
       "    .dataframe tbody tr th:only-of-type {\n",
       "        vertical-align: middle;\n",
       "    }\n",
       "\n",
       "    .dataframe tbody tr th {\n",
       "        vertical-align: top;\n",
       "    }\n",
       "\n",
       "    .dataframe thead th {\n",
       "        text-align: right;\n",
       "    }\n",
       "</style>\n",
       "<table border=\"1\" class=\"dataframe\">\n",
       "  <thead>\n",
       "    <tr style=\"text-align: right;\">\n",
       "      <th></th>\n",
       "      <th>id</th>\n",
       "      <th>comment_text</th>\n",
       "      <th>toxic</th>\n",
       "      <th>severe_toxic</th>\n",
       "      <th>obscene</th>\n",
       "      <th>threat</th>\n",
       "      <th>insult</th>\n",
       "      <th>identity_hate</th>\n",
       "    </tr>\n",
       "  </thead>\n",
       "  <tbody>\n",
       "    <tr>\n",
       "      <th>58447</th>\n",
       "      <td>9c875d7527795ed8</td>\n",
       "      <td>REDIRECT Talk:Ministry of Health (Argentina)</td>\n",
       "      <td>0</td>\n",
       "      <td>0</td>\n",
       "      <td>0</td>\n",
       "      <td>0</td>\n",
       "      <td>0</td>\n",
       "      <td>0</td>\n",
       "    </tr>\n",
       "    <tr>\n",
       "      <th>86899</th>\n",
       "      <td>e86b143fdb70fe2b</td>\n",
       "      <td>I don't know what sort of account I am using Domer but Black Kite seems to understand that BT creates multiple numbers. Anyway since I registered I haven't been using IP numbers despite your paranoid accusations.</td>\n",
       "      <td>0</td>\n",
       "      <td>0</td>\n",
       "      <td>0</td>\n",
       "      <td>0</td>\n",
       "      <td>0</td>\n",
       "      <td>0</td>\n",
       "    </tr>\n",
       "    <tr>\n",
       "      <th>149391</th>\n",
       "      <td>5ba113943acb7a0e</td>\n",
       "      <td>\"\\n\\n Assessments \\n\\nThank you for adding template tags on WikiProject Environment articles. Try consider Outriggr's tool to assess article class. After that, I will reward you the Environmental Barnstar. If you have questions on how to assign class of articles, please don't hesitate to contact me. Talk page \"</td>\n",
       "      <td>0</td>\n",
       "      <td>0</td>\n",
       "      <td>0</td>\n",
       "      <td>0</td>\n",
       "      <td>0</td>\n",
       "      <td>0</td>\n",
       "    </tr>\n",
       "    <tr>\n",
       "      <th>115337</th>\n",
       "      <td>68ca24f2712fbfac</td>\n",
       "      <td>\"\\n\\n Josip Šimunić \\n\\nYou placed the following link as the reference for the player being of Bosnian-Croat heritage. Unfortunately I cannot verify the page myself. Could you put a direct translation of the original and the english here (or on the article talk page) for the relevant statement.\\n\\nThanks,\\n\\n \"</td>\n",
       "      <td>0</td>\n",
       "      <td>0</td>\n",
       "      <td>0</td>\n",
       "      <td>0</td>\n",
       "      <td>0</td>\n",
       "      <td>0</td>\n",
       "    </tr>\n",
       "    <tr>\n",
       "      <th>19736</th>\n",
       "      <td>34231003450e8369</td>\n",
       "      <td>Don't display the plot!\\nI deleted the section because it is spoiling it for people who haven't read it. Who ever created that plot section in the first place is a mean person, Because you are spoiling it for everyone who hasn't read it. Don't restore the section, Because it is not fair for those who read it.</td>\n",
       "      <td>0</td>\n",
       "      <td>0</td>\n",
       "      <td>0</td>\n",
       "      <td>0</td>\n",
       "      <td>0</td>\n",
       "      <td>0</td>\n",
       "    </tr>\n",
       "  </tbody>\n",
       "</table>\n",
       "</div>"
      ],
      "text/plain": [
       "                      id  \\\n",
       "58447   9c875d7527795ed8   \n",
       "86899   e86b143fdb70fe2b   \n",
       "149391  5ba113943acb7a0e   \n",
       "115337  68ca24f2712fbfac   \n",
       "19736   34231003450e8369   \n",
       "\n",
       "                                                                                                                                                                                                                                                                                                                    comment_text  \\\n",
       "58447                                                                                                                                                                                                                                                                               REDIRECT Talk:Ministry of Health (Argentina)   \n",
       "86899                                                                                                       I don't know what sort of account I am using Domer but Black Kite seems to understand that BT creates multiple numbers. Anyway since I registered I haven't been using IP numbers despite your paranoid accusations.   \n",
       "149391  \"\\n\\n Assessments \\n\\nThank you for adding template tags on WikiProject Environment articles. Try consider Outriggr's tool to assess article class. After that, I will reward you the Environmental Barnstar. If you have questions on how to assign class of articles, please don't hesitate to contact me. Talk page \"   \n",
       "115337  \"\\n\\n Josip Šimunić \\n\\nYou placed the following link as the reference for the player being of Bosnian-Croat heritage. Unfortunately I cannot verify the page myself. Could you put a direct translation of the original and the english here (or on the article talk page) for the relevant statement.\\n\\nThanks,\\n\\n \"   \n",
       "19736     Don't display the plot!\\nI deleted the section because it is spoiling it for people who haven't read it. Who ever created that plot section in the first place is a mean person, Because you are spoiling it for everyone who hasn't read it. Don't restore the section, Because it is not fair for those who read it.   \n",
       "\n",
       "        toxic  severe_toxic  obscene  threat  insult  identity_hate  \n",
       "58447       0             0        0       0       0              0  \n",
       "86899       0             0        0       0       0              0  \n",
       "149391      0             0        0       0       0              0  \n",
       "115337      0             0        0       0       0              0  \n",
       "19736       0             0        0       0       0              0  "
      ]
     },
     "execution_count": 4,
     "metadata": {},
     "output_type": "execute_result"
    }
   ],
   "source": [
    "data.sample(5)"
   ]
  },
  {
   "cell_type": "markdown",
   "id": "070caf65",
   "metadata": {
    "papermill": {
     "duration": 0.011624,
     "end_time": "2023-02-21T05:31:32.602807",
     "exception": false,
     "start_time": "2023-02-21T05:31:32.591183",
     "status": "completed"
    },
    "tags": []
   },
   "source": [
    "Lets look at some of the toxic comments\n"
   ]
  },
  {
   "cell_type": "code",
   "execution_count": 5,
   "id": "c227903b",
   "metadata": {
    "execution": {
     "iopub.execute_input": "2023-02-21T05:31:32.627121Z",
     "iopub.status.busy": "2023-02-21T05:31:32.626826Z",
     "iopub.status.idle": "2023-02-21T05:31:32.642770Z",
     "shell.execute_reply": "2023-02-21T05:31:32.641662Z"
    },
    "papermill": {
     "duration": 0.031289,
     "end_time": "2023-02-21T05:31:32.645566",
     "exception": false,
     "start_time": "2023-02-21T05:31:32.614277",
     "status": "completed"
    },
    "tags": []
   },
   "outputs": [
    {
     "data": {
      "text/html": [
       "<div>\n",
       "<style scoped>\n",
       "    .dataframe tbody tr th:only-of-type {\n",
       "        vertical-align: middle;\n",
       "    }\n",
       "\n",
       "    .dataframe tbody tr th {\n",
       "        vertical-align: top;\n",
       "    }\n",
       "\n",
       "    .dataframe thead th {\n",
       "        text-align: right;\n",
       "    }\n",
       "</style>\n",
       "<table border=\"1\" class=\"dataframe\">\n",
       "  <thead>\n",
       "    <tr style=\"text-align: right;\">\n",
       "      <th></th>\n",
       "      <th>id</th>\n",
       "      <th>comment_text</th>\n",
       "      <th>toxic</th>\n",
       "      <th>severe_toxic</th>\n",
       "      <th>obscene</th>\n",
       "      <th>threat</th>\n",
       "      <th>insult</th>\n",
       "      <th>identity_hate</th>\n",
       "    </tr>\n",
       "  </thead>\n",
       "  <tbody>\n",
       "    <tr>\n",
       "      <th>70447</th>\n",
       "      <td>bc7aa2cc0b202b7a</td>\n",
       "      <td>@ Fine! Just get me out of here and let me be with Anime News Network and some of IMDb where I can find better cool guys and not ones that picky and snobbish like you. New Jersey sucks!</td>\n",
       "      <td>1</td>\n",
       "      <td>0</td>\n",
       "      <td>1</td>\n",
       "      <td>0</td>\n",
       "      <td>0</td>\n",
       "      <td>0</td>\n",
       "    </tr>\n",
       "    <tr>\n",
       "      <th>34096</th>\n",
       "      <td>5af06d69dbdcd5a4</td>\n",
       "      <td>\"\\n\\nVicious\\nWhy are you so vicious! I was never  rude, but to be quite honest you are coming across like an arrogant bitch! How dare you call me selfish! You dont know me from Adam. You are saying I shouldn't talk to you like \"\"that\"\" but let me tell you: DON'T YOU DARE SPEAK TO ME THE WAY YOU DID! I STILL MAINTAIN THAT YOUR WRESTLING KNOWLEDGE IS MINUTE COMPARED TO THE WEALTH OF KNOWLEDGE I HAVE. So you can stay here and act like you are the most accomplished person in Wrestling, but from the edits you have made I personally think you know very close to NOTHING!\\n(Just as an example...don't you think Shane's wife's page should be merged with his??? She is not that accomplished as a celebrity?) Oh and I find it rather disturbing that you can't construct a sentence without the word \"\"bloody\"\" get a vocabulary!  \"</td>\n",
       "      <td>1</td>\n",
       "      <td>0</td>\n",
       "      <td>0</td>\n",
       "      <td>0</td>\n",
       "      <td>0</td>\n",
       "      <td>0</td>\n",
       "    </tr>\n",
       "    <tr>\n",
       "      <th>132785</th>\n",
       "      <td>c6709dc53840b5a3</td>\n",
       "      <td>again again again \\n\\nthis is not going to stop......hmmmm a personal attack let me think......you are a big poo poo face and smell like a frog\\n\\n star wars sucks \\n\\npeoplw with no lives like that gay stuff</td>\n",
       "      <td>1</td>\n",
       "      <td>0</td>\n",
       "      <td>0</td>\n",
       "      <td>0</td>\n",
       "      <td>1</td>\n",
       "      <td>1</td>\n",
       "    </tr>\n",
       "    <tr>\n",
       "      <th>31737</th>\n",
       "      <td>544d570a9dc705d2</td>\n",
       "      <td>message on daedalus' page \\n\\nDaedalus is nothing but a filthy n!gger and a cyberstalker who sits in his mommy's basement and who fails - yet again - at trying to ban me and stop me from getting my lulz on. I have access to THOUSANDS of IPs and have many 25 sleeper accounts, so u fail u wiki-police homos. plz feel free to suck my d!ck u n!gger f@ggot. You==========&gt; fail. anyways, u have to be watchful everywhere - i can pick and chose my announcements at will, and still edit via my sleeper accounts from IPs all across the world. u wont no when or where i will appear. my lulz is 4ever u n!gger f@gget.\\nStop cyberstalking people u freak Daedalus. go back to hiding in mommy's basement and playing Call of Duty or whatever gay thing u do since it is obvious that u are unemployeed cuz u spend all day on wikipedia looking like the lozer u are. Moar lulz for me!!!! Horray for me!!! Im kool and ur a fool!!!! I shall surface again and make myself known in a month or two. HEY EVERYBODY - Daedalus is a n!gger and a f@ggot!!!!!!!!!! Look at the n!gger f@ggot! You===========&gt; fail.</td>\n",
       "      <td>1</td>\n",
       "      <td>0</td>\n",
       "      <td>0</td>\n",
       "      <td>0</td>\n",
       "      <td>0</td>\n",
       "      <td>0</td>\n",
       "    </tr>\n",
       "    <tr>\n",
       "      <th>133886</th>\n",
       "      <td>cc4105cf4efe393d</td>\n",
       "      <td>\"\\n\\nWhat random comments!  Argumentum ad hominem is a logical fallacy, not a fancy term for an insult.  I think you may have got confused by all that Latin.  I presume you consider it crackers' talk.  Don't bother reading the article; you won't understand it.\\n\\nSelf-respect?  You seem to have problems with the English language there too; you mean \"\"respect\"\".  I'm fine; it's you and all other racist scum that I don't respect.  You are the main reason excellent editors leave.  —  \"</td>\n",
       "      <td>1</td>\n",
       "      <td>0</td>\n",
       "      <td>0</td>\n",
       "      <td>0</td>\n",
       "      <td>0</td>\n",
       "      <td>0</td>\n",
       "    </tr>\n",
       "  </tbody>\n",
       "</table>\n",
       "</div>"
      ],
      "text/plain": [
       "                      id  \\\n",
       "70447   bc7aa2cc0b202b7a   \n",
       "34096   5af06d69dbdcd5a4   \n",
       "132785  c6709dc53840b5a3   \n",
       "31737   544d570a9dc705d2   \n",
       "133886  cc4105cf4efe393d   \n",
       "\n",
       "                                                                                                                                                                                                                                                                                                                                                                                                                                                                                                                                                                                                                                                                                                                                                                                                                                                                                                                                                                                                                                                                                                                         comment_text  \\\n",
       "70447                                                                                                                                                                                                                                                                                                                                                                                                                                                                                                                                                                                                                                                                                                                                                                                                                                                                                                                                       @ Fine! Just get me out of here and let me be with Anime News Network and some of IMDb where I can find better cool guys and not ones that picky and snobbish like you. New Jersey sucks!   \n",
       "34096                                                                                                                                                                                                                                                                       \"\\n\\nVicious\\nWhy are you so vicious! I was never  rude, but to be quite honest you are coming across like an arrogant bitch! How dare you call me selfish! You dont know me from Adam. You are saying I shouldn't talk to you like \"\"that\"\" but let me tell you: DON'T YOU DARE SPEAK TO ME THE WAY YOU DID! I STILL MAINTAIN THAT YOUR WRESTLING KNOWLEDGE IS MINUTE COMPARED TO THE WEALTH OF KNOWLEDGE I HAVE. So you can stay here and act like you are the most accomplished person in Wrestling, but from the edits you have made I personally think you know very close to NOTHING!\\n(Just as an example...don't you think Shane's wife's page should be merged with his??? She is not that accomplished as a celebrity?) Oh and I find it rather disturbing that you can't construct a sentence without the word \"\"bloody\"\" get a vocabulary!  \"   \n",
       "132785                                                                                                                                                                                                                                                                                                                                                                                                                                                                                                                                                                                                                                                                                                                                                                                                                                                                                                               again again again \\n\\nthis is not going to stop......hmmmm a personal attack let me think......you are a big poo poo face and smell like a frog\\n\\n star wars sucks \\n\\npeoplw with no lives like that gay stuff   \n",
       "31737   message on daedalus' page \\n\\nDaedalus is nothing but a filthy n!gger and a cyberstalker who sits in his mommy's basement and who fails - yet again - at trying to ban me and stop me from getting my lulz on. I have access to THOUSANDS of IPs and have many 25 sleeper accounts, so u fail u wiki-police homos. plz feel free to suck my d!ck u n!gger f@ggot. You==========> fail. anyways, u have to be watchful everywhere - i can pick and chose my announcements at will, and still edit via my sleeper accounts from IPs all across the world. u wont no when or where i will appear. my lulz is 4ever u n!gger f@gget.\\nStop cyberstalking people u freak Daedalus. go back to hiding in mommy's basement and playing Call of Duty or whatever gay thing u do since it is obvious that u are unemployeed cuz u spend all day on wikipedia looking like the lozer u are. Moar lulz for me!!!! Horray for me!!! Im kool and ur a fool!!!! I shall surface again and make myself known in a month or two. HEY EVERYBODY - Daedalus is a n!gger and a f@ggot!!!!!!!!!! Look at the n!gger f@ggot! You===========> fail.   \n",
       "133886                                                                                                                                                                                                                                                                                                                                                                                                                                                                                                                                                                                                                        \"\\n\\nWhat random comments!  Argumentum ad hominem is a logical fallacy, not a fancy term for an insult.  I think you may have got confused by all that Latin.  I presume you consider it crackers' talk.  Don't bother reading the article; you won't understand it.\\n\\nSelf-respect?  You seem to have problems with the English language there too; you mean \"\"respect\"\".  I'm fine; it's you and all other racist scum that I don't respect.  You are the main reason excellent editors leave.  —  \"   \n",
       "\n",
       "        toxic  severe_toxic  obscene  threat  insult  identity_hate  \n",
       "70447       1             0        1       0       0              0  \n",
       "34096       1             0        0       0       0              0  \n",
       "132785      1             0        0       0       1              1  \n",
       "31737       1             0        0       0       0              0  \n",
       "133886      1             0        0       0       0              0  "
      ]
     },
     "execution_count": 5,
     "metadata": {},
     "output_type": "execute_result"
    }
   ],
   "source": [
    "data[data['toxic'] == 1].sample(5)"
   ]
  },
  {
   "cell_type": "markdown",
   "id": "7d723993",
   "metadata": {
    "papermill": {
     "duration": 0.011629,
     "end_time": "2023-02-21T05:31:32.669268",
     "exception": false,
     "start_time": "2023-02-21T05:31:32.657639",
     "status": "completed"
    },
    "tags": []
   },
   "source": [
    "## Preprocessing\n"
   ]
  },
  {
   "cell_type": "code",
   "execution_count": 6,
   "id": "4a76599f",
   "metadata": {
    "execution": {
     "iopub.execute_input": "2023-02-21T05:31:32.695630Z",
     "iopub.status.busy": "2023-02-21T05:31:32.694041Z",
     "iopub.status.idle": "2023-02-21T05:31:32.700494Z",
     "shell.execute_reply": "2023-02-21T05:31:32.699567Z"
    },
    "papermill": {
     "duration": 0.021185,
     "end_time": "2023-02-21T05:31:32.702548",
     "exception": false,
     "start_time": "2023-02-21T05:31:32.681363",
     "status": "completed"
    },
    "tags": []
   },
   "outputs": [],
   "source": [
    "from tensorflow.keras.layers import TextVectorization"
   ]
  },
  {
   "cell_type": "markdown",
   "id": "fc820d05",
   "metadata": {
    "papermill": {
     "duration": 0.011458,
     "end_time": "2023-02-21T05:31:32.725871",
     "exception": false,
     "start_time": "2023-02-21T05:31:32.714413",
     "status": "completed"
    },
    "tags": []
   },
   "source": [
    "Splitting into X and y "
   ]
  },
  {
   "cell_type": "code",
   "execution_count": 7,
   "id": "c0135986",
   "metadata": {
    "execution": {
     "iopub.execute_input": "2023-02-21T05:31:32.752072Z",
     "iopub.status.busy": "2023-02-21T05:31:32.751226Z",
     "iopub.status.idle": "2023-02-21T05:31:32.759535Z",
     "shell.execute_reply": "2023-02-21T05:31:32.758619Z"
    },
    "papermill": {
     "duration": 0.023461,
     "end_time": "2023-02-21T05:31:32.761596",
     "exception": false,
     "start_time": "2023-02-21T05:31:32.738135",
     "status": "completed"
    },
    "tags": []
   },
   "outputs": [],
   "source": [
    "X = data['comment_text']\n",
    "y = data[data.columns[2:]].values"
   ]
  },
  {
   "cell_type": "markdown",
   "id": "8a978e0c",
   "metadata": {
    "papermill": {
     "duration": 0.011621,
     "end_time": "2023-02-21T05:31:32.784818",
     "exception": false,
     "start_time": "2023-02-21T05:31:32.773197",
     "status": "completed"
    },
    "tags": []
   },
   "source": [
    "Number of words in our vocabulary\n"
   ]
  },
  {
   "cell_type": "code",
   "execution_count": 8,
   "id": "e2d405d6",
   "metadata": {
    "execution": {
     "iopub.execute_input": "2023-02-21T05:31:32.809544Z",
     "iopub.status.busy": "2023-02-21T05:31:32.809263Z",
     "iopub.status.idle": "2023-02-21T05:31:32.813345Z",
     "shell.execute_reply": "2023-02-21T05:31:32.812408Z"
    },
    "papermill": {
     "duration": 0.01861,
     "end_time": "2023-02-21T05:31:32.815348",
     "exception": false,
     "start_time": "2023-02-21T05:31:32.796738",
     "status": "completed"
    },
    "tags": []
   },
   "outputs": [],
   "source": [
    "MAX_FEATURES = 200000"
   ]
  },
  {
   "cell_type": "code",
   "execution_count": 9,
   "id": "214e1db7",
   "metadata": {
    "execution": {
     "iopub.execute_input": "2023-02-21T05:31:32.840282Z",
     "iopub.status.busy": "2023-02-21T05:31:32.839503Z",
     "iopub.status.idle": "2023-02-21T05:31:35.797080Z",
     "shell.execute_reply": "2023-02-21T05:31:35.795994Z"
    },
    "papermill": {
     "duration": 2.972569,
     "end_time": "2023-02-21T05:31:35.799789",
     "exception": false,
     "start_time": "2023-02-21T05:31:32.827220",
     "status": "completed"
    },
    "tags": []
   },
   "outputs": [],
   "source": [
    "vectorizer = TextVectorization(max_tokens = MAX_FEATURES, output_sequence_length = 1800, output_mode = 'int')"
   ]
  },
  {
   "cell_type": "code",
   "execution_count": 10,
   "id": "20e64149",
   "metadata": {
    "execution": {
     "iopub.execute_input": "2023-02-21T05:31:35.826874Z",
     "iopub.status.busy": "2023-02-21T05:31:35.826518Z",
     "iopub.status.idle": "2023-02-21T05:31:49.067499Z",
     "shell.execute_reply": "2023-02-21T05:31:49.066462Z"
    },
    "papermill": {
     "duration": 13.256978,
     "end_time": "2023-02-21T05:31:49.070077",
     "exception": false,
     "start_time": "2023-02-21T05:31:35.813099",
     "status": "completed"
    },
    "tags": []
   },
   "outputs": [],
   "source": [
    "vectorizer.adapt(X.values)"
   ]
  },
  {
   "cell_type": "code",
   "execution_count": 11,
   "id": "9326ce5a",
   "metadata": {
    "execution": {
     "iopub.execute_input": "2023-02-21T05:31:49.095449Z",
     "iopub.status.busy": "2023-02-21T05:31:49.095104Z",
     "iopub.status.idle": "2023-02-21T05:31:54.656850Z",
     "shell.execute_reply": "2023-02-21T05:31:54.655206Z"
    },
    "papermill": {
     "duration": 5.577073,
     "end_time": "2023-02-21T05:31:54.659249",
     "exception": false,
     "start_time": "2023-02-21T05:31:49.082176",
     "status": "completed"
    },
    "tags": []
   },
   "outputs": [
    {
     "name": "stdout",
     "output_type": "stream",
     "text": [
      "['', '[UNK]', 'the', 'to', 'of', 'and', 'a', 'you', 'i', 'is', 'that', 'in', 'it', 'for', 'this', 'not', 'on', 'be', 'as', 'have', 'are', 'your', 'with', 'if', 'article', 'was', 'or', 'but', 'page', 'my', 'an', 'from', 'by', 'do', 'at', 'about', 'me', 'so', 'wikipedia', 'can', 'what', 'there', 'all', 'has', 'will', 'talk', 'please', 'would', 'its', 'no', 'one', 'just', 'like', 'they', 'he', 'dont', 'which', 'any', 'been', 'should', 'more', 'we', 'some', 'other', 'who', 'see', 'here', 'also', 'his', 'think', 'im', 'because', 'know', 'how', 'am', 'people', 'why', 'edit', 'articles', 'only', 'out', 'up', 'when', 'were', 'use', 'then', 'may', 'time', 'did', 'them', 'now', 'being', 'their', 'than', 'thanks', 'even', 'get', 'make', 'good', 'had']\n"
     ]
    }
   ],
   "source": [
    "print(vectorizer.get_vocabulary()[:100])"
   ]
  },
  {
   "cell_type": "code",
   "execution_count": 12,
   "id": "e15a1d4d",
   "metadata": {
    "execution": {
     "iopub.execute_input": "2023-02-21T05:31:54.687526Z",
     "iopub.status.busy": "2023-02-21T05:31:54.686849Z",
     "iopub.status.idle": "2023-02-21T05:31:54.762453Z",
     "shell.execute_reply": "2023-02-21T05:31:54.760903Z"
    },
    "papermill": {
     "duration": 0.092706,
     "end_time": "2023-02-21T05:31:54.765316",
     "exception": false,
     "start_time": "2023-02-21T05:31:54.672610",
     "status": "completed"
    },
    "tags": []
   },
   "outputs": [
    {
     "name": "stdout",
     "output_type": "stream",
     "text": [
      "tf.Tensor([288  73  20   7   0], shape=(5,), dtype=int64)\n"
     ]
    }
   ],
   "source": [
    "print(vectorizer(\"Hello, How are you?\")[:5])"
   ]
  },
  {
   "cell_type": "code",
   "execution_count": 13,
   "id": "55ee39eb",
   "metadata": {
    "execution": {
     "iopub.execute_input": "2023-02-21T05:31:54.794357Z",
     "iopub.status.busy": "2023-02-21T05:31:54.794034Z",
     "iopub.status.idle": "2023-02-21T05:31:59.514034Z",
     "shell.execute_reply": "2023-02-21T05:31:59.512500Z"
    },
    "papermill": {
     "duration": 4.73612,
     "end_time": "2023-02-21T05:31:59.516116",
     "exception": false,
     "start_time": "2023-02-21T05:31:54.779996",
     "status": "completed"
    },
    "tags": []
   },
   "outputs": [
    {
     "name": "stderr",
     "output_type": "stream",
     "text": [
      "2023-02-21 05:31:57.885101: W tensorflow/core/framework/cpu_allocator_impl.cc:82] Allocation of 2297822400 exceeds 10% of free system memory.\n"
     ]
    },
    {
     "name": "stdout",
     "output_type": "stream",
     "text": [
      "CPU times: user 2.82 s, sys: 1.9 s, total: 4.73 s\n",
      "Wall time: 4.71 s\n"
     ]
    }
   ],
   "source": [
    "%%time\n",
    "vectorized_text = vectorizer(X.values)"
   ]
  },
  {
   "cell_type": "code",
   "execution_count": 14,
   "id": "7255382e",
   "metadata": {
    "execution": {
     "iopub.execute_input": "2023-02-21T05:31:59.542109Z",
     "iopub.status.busy": "2023-02-21T05:31:59.541798Z",
     "iopub.status.idle": "2023-02-21T05:31:59.548848Z",
     "shell.execute_reply": "2023-02-21T05:31:59.547726Z"
    },
    "papermill": {
     "duration": 0.022956,
     "end_time": "2023-02-21T05:31:59.552009",
     "exception": false,
     "start_time": "2023-02-21T05:31:59.529053",
     "status": "completed"
    },
    "tags": []
   },
   "outputs": [
    {
     "data": {
      "text/plain": [
       "<tf.Tensor: shape=(159571, 1800), dtype=int64, numpy=\n",
       "array([[  645,    76,     2, ...,     0,     0,     0],\n",
       "       [    1,    54,  2489, ...,     0,     0,     0],\n",
       "       [  425,   441,    70, ...,     0,     0,     0],\n",
       "       ...,\n",
       "       [32445,  7392,   383, ...,     0,     0,     0],\n",
       "       [    5,    12,   534, ...,     0,     0,     0],\n",
       "       [    5,     8,   130, ...,     0,     0,     0]])>"
      ]
     },
     "execution_count": 14,
     "metadata": {},
     "output_type": "execute_result"
    }
   ],
   "source": [
    "vectorized_text"
   ]
  },
  {
   "cell_type": "markdown",
   "id": "6ae89dcb",
   "metadata": {
    "papermill": {
     "duration": 0.011644,
     "end_time": "2023-02-21T05:31:59.575515",
     "exception": false,
     "start_time": "2023-02-21T05:31:59.563871",
     "status": "completed"
    },
    "tags": []
   },
   "source": [
    "data pipeline for tensorflow"
   ]
  },
  {
   "cell_type": "code",
   "execution_count": 15,
   "id": "0c483e17",
   "metadata": {
    "execution": {
     "iopub.execute_input": "2023-02-21T05:31:59.600649Z",
     "iopub.status.busy": "2023-02-21T05:31:59.600296Z",
     "iopub.status.idle": "2023-02-21T05:31:59.617811Z",
     "shell.execute_reply": "2023-02-21T05:31:59.616699Z"
    },
    "papermill": {
     "duration": 0.032301,
     "end_time": "2023-02-21T05:31:59.619831",
     "exception": false,
     "start_time": "2023-02-21T05:31:59.587530",
     "status": "completed"
    },
    "tags": []
   },
   "outputs": [],
   "source": [
    "dataset = tf.data.Dataset.from_tensor_slices((vectorized_text, y))\n",
    "dataset = dataset.cache()\n",
    "dataset = dataset.shuffle(160000)\n",
    "dataset = dataset.batch(16)\n",
    "dataset = dataset.prefetch(8)"
   ]
  },
  {
   "cell_type": "code",
   "execution_count": 16,
   "id": "fdcf193d",
   "metadata": {
    "execution": {
     "iopub.execute_input": "2023-02-21T05:31:59.644944Z",
     "iopub.status.busy": "2023-02-21T05:31:59.644161Z",
     "iopub.status.idle": "2023-02-21T05:32:01.974129Z",
     "shell.execute_reply": "2023-02-21T05:32:01.973143Z"
    },
    "papermill": {
     "duration": 2.345823,
     "end_time": "2023-02-21T05:32:01.977435",
     "exception": false,
     "start_time": "2023-02-21T05:31:59.631612",
     "status": "completed"
    },
    "tags": []
   },
   "outputs": [
    {
     "name": "stderr",
     "output_type": "stream",
     "text": [
      "2023-02-21 05:31:59.647916: W tensorflow/core/framework/cpu_allocator_impl.cc:82] Allocation of 2297822400 exceeds 10% of free system memory.\n"
     ]
    }
   ],
   "source": [
    "batch_X, batch_y = dataset.as_numpy_iterator().next()"
   ]
  },
  {
   "cell_type": "code",
   "execution_count": 17,
   "id": "fb73cd9a",
   "metadata": {
    "execution": {
     "iopub.execute_input": "2023-02-21T05:32:02.015074Z",
     "iopub.status.busy": "2023-02-21T05:32:02.014633Z",
     "iopub.status.idle": "2023-02-21T05:32:02.020612Z",
     "shell.execute_reply": "2023-02-21T05:32:02.019608Z"
    },
    "papermill": {
     "duration": 0.030552,
     "end_time": "2023-02-21T05:32:02.026456",
     "exception": false,
     "start_time": "2023-02-21T05:32:01.995904",
     "status": "completed"
    },
    "tags": []
   },
   "outputs": [
    {
     "name": "stdout",
     "output_type": "stream",
     "text": [
      "(16, 1800) (16, 6)\n"
     ]
    }
   ],
   "source": [
    "print(batch_X.shape, batch_y.shape)"
   ]
  },
  {
   "cell_type": "markdown",
   "id": "4241a67f",
   "metadata": {
    "papermill": {
     "duration": 0.015734,
     "end_time": "2023-02-21T05:32:02.059906",
     "exception": false,
     "start_time": "2023-02-21T05:32:02.044172",
     "status": "completed"
    },
    "tags": []
   },
   "source": [
    "## train, val, test\n"
   ]
  },
  {
   "cell_type": "code",
   "execution_count": 18,
   "id": "c37daf75",
   "metadata": {
    "execution": {
     "iopub.execute_input": "2023-02-21T05:32:02.094632Z",
     "iopub.status.busy": "2023-02-21T05:32:02.094267Z",
     "iopub.status.idle": "2023-02-21T05:32:02.104429Z",
     "shell.execute_reply": "2023-02-21T05:32:02.103547Z"
    },
    "papermill": {
     "duration": 0.029974,
     "end_time": "2023-02-21T05:32:02.106528",
     "exception": false,
     "start_time": "2023-02-21T05:32:02.076554",
     "status": "completed"
    },
    "tags": []
   },
   "outputs": [],
   "source": [
    "train = dataset.take(int(len(dataset)*.7))\n",
    "val = dataset.skip(int(len(dataset)*.7)).take(int(len(dataset)*.2))\n",
    "test = dataset.skip(int(len(dataset)*.9)).take(int(len(dataset)*.1))"
   ]
  },
  {
   "cell_type": "code",
   "execution_count": 19,
   "id": "cf74feb0",
   "metadata": {
    "execution": {
     "iopub.execute_input": "2023-02-21T05:32:02.132168Z",
     "iopub.status.busy": "2023-02-21T05:32:02.131422Z",
     "iopub.status.idle": "2023-02-21T05:32:02.138227Z",
     "shell.execute_reply": "2023-02-21T05:32:02.136912Z"
    },
    "papermill": {
     "duration": 0.021773,
     "end_time": "2023-02-21T05:32:02.140272",
     "exception": false,
     "start_time": "2023-02-21T05:32:02.118499",
     "status": "completed"
    },
    "tags": []
   },
   "outputs": [
    {
     "name": "stdout",
     "output_type": "stream",
     "text": [
      "Training Examples: 6981, Validation Examples: 1994, Test Examples: 997\n"
     ]
    }
   ],
   "source": [
    "print(f'Training Examples: {len(train)}, Validation Examples: {len(val)}, Test Examples: {len(test)}')"
   ]
  },
  {
   "cell_type": "markdown",
   "id": "a72914fa",
   "metadata": {
    "papermill": {
     "duration": 0.011517,
     "end_time": "2023-02-21T05:32:02.163402",
     "exception": false,
     "start_time": "2023-02-21T05:32:02.151885",
     "status": "completed"
    },
    "tags": []
   },
   "source": [
    "## Neural Network\n"
   ]
  },
  {
   "cell_type": "code",
   "execution_count": 20,
   "id": "32420637",
   "metadata": {
    "execution": {
     "iopub.execute_input": "2023-02-21T05:32:02.188430Z",
     "iopub.status.busy": "2023-02-21T05:32:02.187659Z",
     "iopub.status.idle": "2023-02-21T05:32:02.193181Z",
     "shell.execute_reply": "2023-02-21T05:32:02.192296Z"
    },
    "papermill": {
     "duration": 0.019883,
     "end_time": "2023-02-21T05:32:02.195091",
     "exception": false,
     "start_time": "2023-02-21T05:32:02.175208",
     "status": "completed"
    },
    "tags": []
   },
   "outputs": [],
   "source": [
    "from tensorflow.keras.models import Sequential\n",
    "from tensorflow.keras.layers import LSTM, Dropout, Bidirectional, Dense, Embedding"
   ]
  },
  {
   "cell_type": "code",
   "execution_count": 21,
   "id": "fac4d5d6",
   "metadata": {
    "execution": {
     "iopub.execute_input": "2023-02-21T05:32:02.219905Z",
     "iopub.status.busy": "2023-02-21T05:32:02.219105Z",
     "iopub.status.idle": "2023-02-21T05:32:02.225763Z",
     "shell.execute_reply": "2023-02-21T05:32:02.224788Z"
    },
    "papermill": {
     "duration": 0.020944,
     "end_time": "2023-02-21T05:32:02.227726",
     "exception": false,
     "start_time": "2023-02-21T05:32:02.206782",
     "status": "completed"
    },
    "tags": []
   },
   "outputs": [],
   "source": [
    "def build_model():\n",
    "    model = Sequential()\n",
    "    # Embedding layer\n",
    "    model.add(Embedding(MAX_FEATURES+1, 32))\n",
    "    # Bidirectional LSTM layer\n",
    "    model.add(Bidirectional(LSTM(32, activation= 'tanh')))\n",
    "    # Feature extractor dense layers\n",
    "    model.add(Dense(128, activation= 'relu'))\n",
    "    model.add(Dense(256, activation= 'relu'))\n",
    "    model.add(Dense(128, activation= 'relu'))\n",
    "    # final layer with multiple outputs\n",
    "    model.add(Dense(6, activation= 'sigmoid'))\n",
    "    # Compiling the model\n",
    "    model.compile(loss= 'BinaryCrossentropy', optimizer= 'Adam')\n",
    "    \n",
    "    return model"
   ]
  },
  {
   "cell_type": "code",
   "execution_count": 22,
   "id": "323335ed",
   "metadata": {
    "execution": {
     "iopub.execute_input": "2023-02-21T05:32:02.252588Z",
     "iopub.status.busy": "2023-02-21T05:32:02.251822Z",
     "iopub.status.idle": "2023-02-21T05:32:02.809303Z",
     "shell.execute_reply": "2023-02-21T05:32:02.808517Z"
    },
    "papermill": {
     "duration": 0.579875,
     "end_time": "2023-02-21T05:32:02.819161",
     "exception": false,
     "start_time": "2023-02-21T05:32:02.239286",
     "status": "completed"
    },
    "tags": []
   },
   "outputs": [
    {
     "name": "stdout",
     "output_type": "stream",
     "text": [
      "Model: \"sequential\"\n",
      "_________________________________________________________________\n",
      " Layer (type)                Output Shape              Param #   \n",
      "=================================================================\n",
      " embedding (Embedding)       (None, None, 32)          6400032   \n",
      "                                                                 \n",
      " bidirectional (Bidirectiona  (None, 64)               16640     \n",
      " l)                                                              \n",
      "                                                                 \n",
      " dense (Dense)               (None, 128)               8320      \n",
      "                                                                 \n",
      " dense_1 (Dense)             (None, 256)               33024     \n",
      "                                                                 \n",
      " dense_2 (Dense)             (None, 128)               32896     \n",
      "                                                                 \n",
      " dense_3 (Dense)             (None, 6)                 774       \n",
      "                                                                 \n",
      "=================================================================\n",
      "Total params: 6,491,686\n",
      "Trainable params: 6,491,686\n",
      "Non-trainable params: 0\n",
      "_________________________________________________________________\n"
     ]
    }
   ],
   "source": [
    "model = build_model()\n",
    "model.summary()"
   ]
  },
  {
   "cell_type": "code",
   "execution_count": 23,
   "id": "0e23d3bb",
   "metadata": {
    "execution": {
     "iopub.execute_input": "2023-02-21T05:32:02.846714Z",
     "iopub.status.busy": "2023-02-21T05:32:02.846434Z",
     "iopub.status.idle": "2023-02-21T06:48:13.887157Z",
     "shell.execute_reply": "2023-02-21T06:48:13.886215Z"
    },
    "papermill": {
     "duration": 4573.787273,
     "end_time": "2023-02-21T06:48:16.619818",
     "exception": false,
     "start_time": "2023-02-21T05:32:02.832545",
     "status": "completed"
    },
    "tags": []
   },
   "outputs": [
    {
     "name": "stderr",
     "output_type": "stream",
     "text": [
      "2023-02-21 05:32:02.857674: W tensorflow/core/framework/cpu_allocator_impl.cc:82] Allocation of 2297822400 exceeds 10% of free system memory.\n"
     ]
    },
    {
     "name": "stdout",
     "output_type": "stream",
     "text": [
      "Epoch 1/7\n",
      "6981/6981 [==============================] - ETA: 0s - loss: 0.0642"
     ]
    },
    {
     "name": "stderr",
     "output_type": "stream",
     "text": [
      "2023-02-21 05:41:19.141021: W tensorflow/core/framework/cpu_allocator_impl.cc:82] Allocation of 2297822400 exceeds 10% of free system memory.\n"
     ]
    },
    {
     "name": "stdout",
     "output_type": "stream",
     "text": [
      "6981/6981 [==============================] - 630s 89ms/step - loss: 0.0642 - val_loss: 0.0465\n",
      "Epoch 2/7\n",
      "6981/6981 [==============================] - 627s 90ms/step - loss: 0.0469 - val_loss: 0.0406\n",
      "Epoch 3/7\n",
      "6981/6981 [==============================] - 630s 90ms/step - loss: 0.0410 - val_loss: 0.0366\n",
      "Epoch 4/7\n",
      "6981/6981 [==============================] - 641s 92ms/step - loss: 0.0370 - val_loss: 0.0340\n",
      "Epoch 5/7\n",
      "6981/6981 [==============================] - 650s 93ms/step - loss: 0.0340 - val_loss: 0.0304\n",
      "Epoch 6/7\n",
      "6981/6981 [==============================] - 645s 92ms/step - loss: 0.0306 - val_loss: 0.0288\n",
      "Epoch 7/7\n",
      "6981/6981 [==============================] - 654s 94ms/step - loss: 0.0278 - val_loss: 0.0242\n",
      "CPU times: user 1h 14min 41s, sys: 1min 18s, total: 1h 16min\n",
      "Wall time: 1h 16min 11s\n"
     ]
    }
   ],
   "source": [
    "%%time\n",
    "# Training the model\n",
    "history = model.fit(train, epochs = 7, validation_data= val)"
   ]
  },
  {
   "cell_type": "code",
   "execution_count": 24,
   "id": "4e06f42c",
   "metadata": {
    "execution": {
     "iopub.execute_input": "2023-02-21T06:48:22.826359Z",
     "iopub.status.busy": "2023-02-21T06:48:22.826002Z",
     "iopub.status.idle": "2023-02-21T06:48:22.833837Z",
     "shell.execute_reply": "2023-02-21T06:48:22.831774Z"
    },
    "papermill": {
     "duration": 3.506603,
     "end_time": "2023-02-21T06:48:22.835784",
     "exception": false,
     "start_time": "2023-02-21T06:48:19.329181",
     "status": "completed"
    },
    "tags": []
   },
   "outputs": [
    {
     "data": {
      "text/plain": [
       "{'loss': [0.06418641656637192,\n",
       "  0.04687969386577606,\n",
       "  0.041041575372219086,\n",
       "  0.03701698035001755,\n",
       "  0.03403245657682419,\n",
       "  0.030606398358941078,\n",
       "  0.02778984233736992],\n",
       " 'val_loss': [0.04647146165370941,\n",
       "  0.040614694356918335,\n",
       "  0.03657395392656326,\n",
       "  0.03403576835989952,\n",
       "  0.030446959659457207,\n",
       "  0.0288444384932518,\n",
       "  0.02415059693157673]}"
      ]
     },
     "execution_count": 24,
     "metadata": {},
     "output_type": "execute_result"
    }
   ],
   "source": [
    "history.history"
   ]
  },
  {
   "cell_type": "code",
   "execution_count": 25,
   "id": "f3f4a8ab",
   "metadata": {
    "execution": {
     "iopub.execute_input": "2023-02-21T06:48:28.393432Z",
     "iopub.status.busy": "2023-02-21T06:48:28.393083Z",
     "iopub.status.idle": "2023-02-21T06:48:28.682641Z",
     "shell.execute_reply": "2023-02-21T06:48:28.681680Z"
    },
    "papermill": {
     "duration": 3.105541,
     "end_time": "2023-02-21T06:48:28.684703",
     "exception": false,
     "start_time": "2023-02-21T06:48:25.579162",
     "status": "completed"
    },
    "tags": []
   },
   "outputs": [
    {
     "data": {
      "text/plain": [
       "<Figure size 800x500 with 0 Axes>"
      ]
     },
     "metadata": {},
     "output_type": "display_data"
    },
    {
     "data": {
      "image/png": "[encoded data removed]",
      "text/plain": [
       "<Figure size 640x480 with 1 Axes>"
      ]
     },
     "metadata": {},
     "output_type": "display_data"
    }
   ],
   "source": [
    "import matplotlib.pyplot as plt\n",
    "plt.figure(figsize=(8, 5))\n",
    "pd.DataFrame(history.history).plot()\n",
    "plt.show()"
   ]
  },
  {
   "cell_type": "markdown",
   "id": "c8e1b950",
   "metadata": {
    "papermill": {
     "duration": 2.93833,
     "end_time": "2023-02-21T06:48:34.330354",
     "exception": false,
     "start_time": "2023-02-21T06:48:31.392024",
     "status": "completed"
    },
    "tags": []
   },
   "source": [
    "## Making Predictions\n"
   ]
  },
  {
   "cell_type": "code",
   "execution_count": 26,
   "id": "f82f93c1",
   "metadata": {
    "execution": {
     "iopub.execute_input": "2023-02-21T06:48:39.831629Z",
     "iopub.status.busy": "2023-02-21T06:48:39.830611Z",
     "iopub.status.idle": "2023-02-21T06:48:39.846902Z",
     "shell.execute_reply": "2023-02-21T06:48:39.845960Z"
    },
    "papermill": {
     "duration": 2.825452,
     "end_time": "2023-02-21T06:48:39.848721",
     "exception": false,
     "start_time": "2023-02-21T06:48:37.023269",
     "status": "completed"
    },
    "tags": []
   },
   "outputs": [],
   "source": [
    "input_text = vectorizer(\"Stupid, idiot!\")"
   ]
  },
  {
   "cell_type": "code",
   "execution_count": 27,
   "id": "ad62feb7",
   "metadata": {
    "execution": {
     "iopub.execute_input": "2023-02-21T06:48:45.676357Z",
     "iopub.status.busy": "2023-02-21T06:48:45.676003Z",
     "iopub.status.idle": "2023-02-21T06:48:46.511722Z",
     "shell.execute_reply": "2023-02-21T06:48:46.510796Z"
    },
    "papermill": {
     "duration": 3.820952,
     "end_time": "2023-02-21T06:48:46.513972",
     "exception": false,
     "start_time": "2023-02-21T06:48:42.693020",
     "status": "completed"
    },
    "tags": []
   },
   "outputs": [
    {
     "name": "stdout",
     "output_type": "stream",
     "text": [
      "1/1 [==============================] - 1s 798ms/step\n"
     ]
    }
   ],
   "source": [
    "res = model.predict(np.expand_dims(input_text, 0))"
   ]
  },
  {
   "cell_type": "code",
   "execution_count": 28,
   "id": "e0a7c017",
   "metadata": {
    "execution": {
     "iopub.execute_input": "2023-02-21T06:48:52.150499Z",
     "iopub.status.busy": "2023-02-21T06:48:52.150058Z",
     "iopub.status.idle": "2023-02-21T06:48:52.157663Z",
     "shell.execute_reply": "2023-02-21T06:48:52.156805Z"
    },
    "papermill": {
     "duration": 2.865844,
     "end_time": "2023-02-21T06:48:52.162817",
     "exception": false,
     "start_time": "2023-02-21T06:48:49.296973",
     "status": "completed"
    },
    "tags": []
   },
   "outputs": [
    {
     "data": {
      "text/plain": [
       "array([[1, 0, 1, 0, 1, 0]])"
      ]
     },
     "execution_count": 28,
     "metadata": {},
     "output_type": "execute_result"
    }
   ],
   "source": [
    "(res > 0.5).astype('int')"
   ]
  },
  {
   "cell_type": "markdown",
   "id": "cd418093",
   "metadata": {
    "papermill": {
     "duration": 2.796567,
     "end_time": "2023-02-21T06:48:58.343472",
     "exception": false,
     "start_time": "2023-02-21T06:48:55.546905",
     "status": "completed"
    },
    "tags": []
   },
   "source": [
    "testing on the test set\n"
   ]
  },
  {
   "cell_type": "code",
   "execution_count": 29,
   "id": "99922492",
   "metadata": {
    "execution": {
     "iopub.execute_input": "2023-02-21T06:49:03.836700Z",
     "iopub.status.busy": "2023-02-21T06:49:03.836234Z",
     "iopub.status.idle": "2023-02-21T06:49:07.042380Z",
     "shell.execute_reply": "2023-02-21T06:49:07.041206Z"
    },
    "papermill": {
     "duration": 6.014558,
     "end_time": "2023-02-21T06:49:07.045479",
     "exception": false,
     "start_time": "2023-02-21T06:49:01.030921",
     "status": "completed"
    },
    "tags": []
   },
   "outputs": [
    {
     "name": "stderr",
     "output_type": "stream",
     "text": [
      "2023-02-21 06:49:03.840570: W tensorflow/core/framework/cpu_allocator_impl.cc:82] Allocation of 2297822400 exceeds 10% of free system memory.\n"
     ]
    }
   ],
   "source": [
    "batch = test.as_numpy_iterator().next()"
   ]
  },
  {
   "cell_type": "code",
   "execution_count": 30,
   "id": "dc1a094d",
   "metadata": {
    "execution": {
     "iopub.execute_input": "2023-02-21T06:49:12.562435Z",
     "iopub.status.busy": "2023-02-21T06:49:12.562075Z",
     "iopub.status.idle": "2023-02-21T06:49:13.829717Z",
     "shell.execute_reply": "2023-02-21T06:49:13.828694Z"
    },
    "papermill": {
     "duration": 4.025275,
     "end_time": "2023-02-21T06:49:13.832416",
     "exception": false,
     "start_time": "2023-02-21T06:49:09.807141",
     "status": "completed"
    },
    "tags": []
   },
   "outputs": [],
   "source": [
    "batch_X, batch_y = test.as_numpy_iterator().next()"
   ]
  },
  {
   "cell_type": "code",
   "execution_count": 31,
   "id": "c204e710",
   "metadata": {
    "execution": {
     "iopub.execute_input": "2023-02-21T06:49:19.576471Z",
     "iopub.status.busy": "2023-02-21T06:49:19.576124Z",
     "iopub.status.idle": "2023-02-21T06:49:19.582410Z",
     "shell.execute_reply": "2023-02-21T06:49:19.581511Z"
    },
    "papermill": {
     "duration": 2.880426,
     "end_time": "2023-02-21T06:49:19.584339",
     "exception": false,
     "start_time": "2023-02-21T06:49:16.703913",
     "status": "completed"
    },
    "tags": []
   },
   "outputs": [
    {
     "data": {
      "text/plain": [
       "array([[1, 0, 0, 0, 0, 0],\n",
       "       [0, 0, 0, 0, 0, 0],\n",
       "       [0, 0, 0, 0, 0, 0],\n",
       "       [1, 0, 1, 0, 0, 0],\n",
       "       [0, 0, 0, 0, 0, 0],\n",
       "       [1, 0, 1, 0, 0, 0],\n",
       "       [0, 0, 0, 0, 0, 0],\n",
       "       [0, 0, 0, 0, 0, 0],\n",
       "       [1, 0, 1, 0, 0, 1],\n",
       "       [0, 0, 0, 0, 0, 0],\n",
       "       [0, 0, 0, 0, 0, 0],\n",
       "       [1, 0, 0, 0, 0, 0],\n",
       "       [0, 0, 0, 0, 0, 0],\n",
       "       [0, 0, 0, 0, 0, 0],\n",
       "       [0, 0, 0, 0, 0, 0],\n",
       "       [0, 0, 0, 0, 0, 0]])"
      ]
     },
     "execution_count": 31,
     "metadata": {},
     "output_type": "execute_result"
    }
   ],
   "source": [
    "batch_y"
   ]
  },
  {
   "cell_type": "code",
   "execution_count": 32,
   "id": "4ba3009e",
   "metadata": {
    "execution": {
     "iopub.execute_input": "2023-02-21T06:49:25.558281Z",
     "iopub.status.busy": "2023-02-21T06:49:25.557862Z",
     "iopub.status.idle": "2023-02-21T06:49:25.671638Z",
     "shell.execute_reply": "2023-02-21T06:49:25.670681Z"
    },
    "papermill": {
     "duration": 3.311719,
     "end_time": "2023-02-21T06:49:25.673637",
     "exception": false,
     "start_time": "2023-02-21T06:49:22.361918",
     "status": "completed"
    },
    "tags": []
   },
   "outputs": [
    {
     "name": "stdout",
     "output_type": "stream",
     "text": [
      "1/1 [==============================] - 0s 72ms/step\n"
     ]
    },
    {
     "data": {
      "text/plain": [
       "array([[1, 0, 0, 0, 0, 0],\n",
       "       [0, 0, 0, 0, 0, 0],\n",
       "       [0, 0, 0, 0, 0, 0],\n",
       "       [1, 0, 1, 0, 0, 0],\n",
       "       [0, 0, 0, 0, 0, 0],\n",
       "       [1, 0, 1, 0, 0, 0],\n",
       "       [0, 0, 0, 0, 0, 0],\n",
       "       [0, 0, 0, 0, 0, 0],\n",
       "       [1, 0, 1, 0, 1, 0],\n",
       "       [0, 0, 0, 0, 0, 0],\n",
       "       [0, 0, 0, 0, 0, 0],\n",
       "       [1, 0, 0, 0, 0, 0],\n",
       "       [0, 0, 0, 0, 0, 0],\n",
       "       [0, 0, 0, 0, 0, 0],\n",
       "       [0, 0, 0, 0, 0, 0],\n",
       "       [0, 0, 0, 0, 0, 0]])"
      ]
     },
     "execution_count": 32,
     "metadata": {},
     "output_type": "execute_result"
    }
   ],
   "source": [
    "(model.predict(batch_X) > 0.5).astype('int')"
   ]
  },
  {
   "cell_type": "markdown",
   "id": "ecaab7b8",
   "metadata": {
    "papermill": {
     "duration": 2.779958,
     "end_time": "2023-02-21T06:49:31.430599",
     "exception": false,
     "start_time": "2023-02-21T06:49:28.650641",
     "status": "completed"
    },
    "tags": []
   },
   "source": [
    "## Model Evaluation\n"
   ]
  },
  {
   "cell_type": "code",
   "execution_count": 33,
   "id": "04802eea",
   "metadata": {
    "execution": {
     "iopub.execute_input": "2023-02-21T06:49:36.964728Z",
     "iopub.status.busy": "2023-02-21T06:49:36.964316Z",
     "iopub.status.idle": "2023-02-21T06:49:36.970198Z",
     "shell.execute_reply": "2023-02-21T06:49:36.969282Z"
    },
    "papermill": {
     "duration": 2.813686,
     "end_time": "2023-02-21T06:49:36.972244",
     "exception": false,
     "start_time": "2023-02-21T06:49:34.158558",
     "status": "completed"
    },
    "tags": []
   },
   "outputs": [],
   "source": [
    "from tensorflow.keras.metrics import Precision, Recall, CategoricalAccuracy"
   ]
  },
  {
   "cell_type": "code",
   "execution_count": 34,
   "id": "2e767911",
   "metadata": {
    "execution": {
     "iopub.execute_input": "2023-02-21T06:49:42.752033Z",
     "iopub.status.busy": "2023-02-21T06:49:42.751650Z",
     "iopub.status.idle": "2023-02-21T06:49:42.765080Z",
     "shell.execute_reply": "2023-02-21T06:49:42.764203Z"
    },
    "papermill": {
     "duration": 2.868472,
     "end_time": "2023-02-21T06:49:42.767060",
     "exception": false,
     "start_time": "2023-02-21T06:49:39.898588",
     "status": "completed"
    },
    "tags": []
   },
   "outputs": [],
   "source": [
    "prec = Precision()\n",
    "rec = Recall()\n",
    "acc = CategoricalAccuracy()"
   ]
  },
  {
   "cell_type": "code",
   "execution_count": 35,
   "id": "173e142e",
   "metadata": {
    "execution": {
     "iopub.execute_input": "2023-02-21T06:49:48.153446Z",
     "iopub.status.busy": "2023-02-21T06:49:48.153093Z",
     "iopub.status.idle": "2023-02-21T06:51:31.818885Z",
     "shell.execute_reply": "2023-02-21T06:51:31.817958Z"
    },
    "papermill": {
     "duration": 106.88741,
     "end_time": "2023-02-21T06:51:32.344875",
     "exception": false,
     "start_time": "2023-02-21T06:49:45.457465",
     "status": "completed"
    },
    "scrolled": true,
    "tags": []
   },
   "outputs": [
    {
     "name": "stdout",
     "output_type": "stream",
     "text": [
      "1/1 [==============================] - 0s 68ms/step\n",
      "1/1 [==============================] - 0s 67ms/step\n",
      "1/1 [==============================] - 0s 67ms/step\n",
      "1/1 [==============================] - 0s 66ms/step\n",
      "1/1 [==============================] - 0s 64ms/step\n",
      "1/1 [==============================] - 0s 86ms/step\n",
      "1/1 [==============================] - 0s 80ms/step\n",
      "1/1 [==============================] - 0s 74ms/step\n",
      "1/1 [==============================] - 0s 74ms/step\n",
      "1/1 [==============================] - 0s 75ms/step\n",
      "1/1 [==============================] - 0s 60ms/step\n",
      "1/1 [==============================] - 0s 60ms/step\n",
      "1/1 [==============================] - 0s 60ms/step\n",
      "1/1 [==============================] - 0s 60ms/step\n",
      "1/1 [==============================] - 0s 60ms/step\n",
      "1/1 [==============================] - 0s 59ms/step\n",
      "1/1 [==============================] - 0s 59ms/step\n",
      "1/1 [==============================] - 0s 60ms/step\n",
      "1/1 [==============================] - 0s 60ms/step\n",
      "1/1 [==============================] - 0s 58ms/step\n",
      "1/1 [==============================] - 0s 57ms/step\n",
      "1/1 [==============================] - 0s 56ms/step\n",
      "1/1 [==============================] - 0s 59ms/step\n",
      "1/1 [==============================] - 0s 56ms/step\n",
      "1/1 [==============================] - 0s 58ms/step\n",
      "1/1 [==============================] - 0s 59ms/step\n",
      "1/1 [==============================] - 0s 57ms/step\n",
      "1/1 [==============================] - 0s 57ms/step\n",
      "1/1 [==============================] - 0s 57ms/step\n",
      "1/1 [==============================] - 0s 57ms/step\n",
      "1/1 [==============================] - 0s 57ms/step\n",
      "1/1 [==============================] - 0s 58ms/step\n",
      "1/1 [==============================] - 0s 57ms/step\n",
      "1/1 [==============================] - 0s 57ms/step\n",
      "1/1 [==============================] - 0s 56ms/step\n",
      "1/1 [==============================] - 0s 56ms/step\n",
      "1/1 [==============================] - 0s 57ms/step\n",
      "1/1 [==============================] - 0s 57ms/step\n",
      "1/1 [==============================] - 0s 58ms/step\n",
      "1/1 [==============================] - 0s 56ms/step\n",
      "1/1 [==============================] - 0s 58ms/step\n",
      "1/1 [==============================] - 0s 56ms/step\n",
      "1/1 [==============================] - 0s 58ms/step\n",
      "1/1 [==============================] - 0s 60ms/step\n",
      "1/1 [==============================] - 0s 59ms/step\n",
      "1/1 [==============================] - 0s 58ms/step\n",
      "1/1 [==============================] - 0s 57ms/step\n",
      "1/1 [==============================] - 0s 54ms/step\n",
      "1/1 [==============================] - 0s 55ms/step\n",
      "1/1 [==============================] - 0s 52ms/step\n",
      "1/1 [==============================] - 0s 51ms/step\n",
      "1/1 [==============================] - 0s 51ms/step\n",
      "1/1 [==============================] - 0s 50ms/step\n",
      "1/1 [==============================] - 0s 53ms/step\n",
      "1/1 [==============================] - 0s 52ms/step\n",
      "1/1 [==============================] - 0s 52ms/step\n",
      "1/1 [==============================] - 0s 52ms/step\n",
      "1/1 [==============================] - 0s 76ms/step\n",
      "1/1 [==============================] - 0s 83ms/step\n",
      "1/1 [==============================] - 0s 84ms/step\n",
      "1/1 [==============================] - 0s 78ms/step\n",
      "1/1 [==============================] - 0s 92ms/step\n",
      "1/1 [==============================] - 0s 78ms/step\n",
      "1/1 [==============================] - 0s 76ms/step\n",
      "1/1 [==============================] - 0s 77ms/step\n",
      "1/1 [==============================] - 0s 77ms/step\n",
      "1/1 [==============================] - 0s 72ms/step\n",
      "1/1 [==============================] - 0s 60ms/step\n",
      "1/1 [==============================] - 0s 60ms/step\n",
      "1/1 [==============================] - 0s 59ms/step\n",
      "1/1 [==============================] - 0s 60ms/step\n",
      "1/1 [==============================] - 0s 60ms/step\n",
      "1/1 [==============================] - 0s 59ms/step\n",
      "1/1 [==============================] - 0s 56ms/step\n",
      "1/1 [==============================] - 0s 58ms/step\n",
      "1/1 [==============================] - 0s 57ms/step\n",
      "1/1 [==============================] - 0s 58ms/step\n",
      "1/1 [==============================] - 0s 57ms/step\n",
      "1/1 [==============================] - 0s 59ms/step\n",
      "1/1 [==============================] - 0s 56ms/step\n",
      "1/1 [==============================] - 0s 60ms/step\n",
      "1/1 [==============================] - 0s 56ms/step\n",
      "1/1 [==============================] - 0s 56ms/step\n",
      "1/1 [==============================] - 0s 55ms/step\n",
      "1/1 [==============================] - 0s 56ms/step\n",
      "1/1 [==============================] - 0s 57ms/step\n",
      "1/1 [==============================] - 0s 58ms/step\n",
      "1/1 [==============================] - 0s 57ms/step\n",
      "1/1 [==============================] - 0s 57ms/step\n",
      "1/1 [==============================] - 0s 57ms/step\n",
      "1/1 [==============================] - 0s 58ms/step\n",
      "1/1 [==============================] - 0s 56ms/step\n",
      "1/1 [==============================] - 0s 58ms/step\n",
      "1/1 [==============================] - 0s 57ms/step\n",
      "1/1 [==============================] - 0s 58ms/step\n",
      "1/1 [==============================] - 0s 58ms/step\n",
      "1/1 [==============================] - 0s 59ms/step\n",
      "1/1 [==============================] - 0s 58ms/step\n",
      "1/1 [==============================] - 0s 58ms/step\n",
      "1/1 [==============================] - 0s 56ms/step\n",
      "1/1 [==============================] - 0s 57ms/step\n",
      "1/1 [==============================] - 0s 51ms/step\n",
      "1/1 [==============================] - 0s 53ms/step\n",
      "1/1 [==============================] - 0s 52ms/step\n",
      "1/1 [==============================] - 0s 52ms/step\n",
      "1/1 [==============================] - 0s 53ms/step\n",
      "1/1 [==============================] - 0s 51ms/step\n",
      "1/1 [==============================] - 0s 51ms/step\n",
      "1/1 [==============================] - 0s 51ms/step\n",
      "1/1 [==============================] - 0s 52ms/step\n",
      "1/1 [==============================] - 0s 53ms/step\n",
      "1/1 [==============================] - 0s 106ms/step\n",
      "1/1 [==============================] - 0s 82ms/step\n",
      "1/1 [==============================] - 0s 74ms/step\n",
      "1/1 [==============================] - 0s 72ms/step\n",
      "1/1 [==============================] - 0s 53ms/step\n",
      "1/1 [==============================] - 0s 52ms/step\n",
      "1/1 [==============================] - 0s 51ms/step\n",
      "1/1 [==============================] - 0s 52ms/step\n",
      "1/1 [==============================] - 0s 52ms/step\n",
      "1/1 [==============================] - 0s 51ms/step\n",
      "1/1 [==============================] - 0s 50ms/step\n",
      "1/1 [==============================] - 0s 51ms/step\n",
      "1/1 [==============================] - 0s 50ms/step\n",
      "1/1 [==============================] - 0s 55ms/step\n",
      "1/1 [==============================] - 0s 53ms/step\n",
      "1/1 [==============================] - 0s 54ms/step\n",
      "1/1 [==============================] - 0s 52ms/step\n",
      "1/1 [==============================] - 0s 53ms/step\n",
      "1/1 [==============================] - 0s 52ms/step\n",
      "1/1 [==============================] - 0s 52ms/step\n",
      "1/1 [==============================] - 0s 51ms/step\n",
      "1/1 [==============================] - 0s 52ms/step\n",
      "1/1 [==============================] - 0s 52ms/step\n",
      "1/1 [==============================] - 0s 52ms/step\n",
      "1/1 [==============================] - 0s 52ms/step\n",
      "1/1 [==============================] - 0s 53ms/step\n",
      "1/1 [==============================] - 0s 51ms/step\n",
      "1/1 [==============================] - 0s 52ms/step\n",
      "1/1 [==============================] - 0s 51ms/step\n",
      "1/1 [==============================] - 0s 51ms/step\n",
      "1/1 [==============================] - 0s 53ms/step\n",
      "1/1 [==============================] - 0s 53ms/step\n",
      "1/1 [==============================] - 0s 51ms/step\n",
      "1/1 [==============================] - 0s 52ms/step\n",
      "1/1 [==============================] - 0s 52ms/step\n",
      "1/1 [==============================] - 0s 53ms/step\n",
      "1/1 [==============================] - 0s 52ms/step\n",
      "1/1 [==============================] - 0s 52ms/step\n",
      "1/1 [==============================] - 0s 51ms/step\n",
      "1/1 [==============================] - 0s 53ms/step\n",
      "1/1 [==============================] - 0s 52ms/step\n",
      "1/1 [==============================] - 0s 52ms/step\n",
      "1/1 [==============================] - 0s 51ms/step\n",
      "1/1 [==============================] - 0s 50ms/step\n",
      "1/1 [==============================] - 0s 50ms/step\n",
      "1/1 [==============================] - 0s 51ms/step\n",
      "1/1 [==============================] - 0s 52ms/step\n",
      "1/1 [==============================] - 0s 52ms/step\n",
      "1/1 [==============================] - 0s 51ms/step\n",
      "1/1 [==============================] - 0s 51ms/step\n",
      "1/1 [==============================] - 0s 51ms/step\n",
      "1/1 [==============================] - 0s 51ms/step\n",
      "1/1 [==============================] - 0s 51ms/step\n",
      "1/1 [==============================] - 0s 51ms/step\n",
      "1/1 [==============================] - 0s 50ms/step\n",
      "1/1 [==============================] - 0s 49ms/step\n",
      "1/1 [==============================] - 0s 52ms/step\n",
      "1/1 [==============================] - 0s 51ms/step\n",
      "1/1 [==============================] - 0s 50ms/step\n",
      "1/1 [==============================] - 0s 50ms/step\n",
      "1/1 [==============================] - 0s 50ms/step\n",
      "1/1 [==============================] - 0s 50ms/step\n",
      "1/1 [==============================] - 0s 51ms/step\n",
      "1/1 [==============================] - 0s 51ms/step\n",
      "1/1 [==============================] - 0s 52ms/step\n",
      "1/1 [==============================] - 0s 50ms/step\n",
      "1/1 [==============================] - 0s 50ms/step\n",
      "1/1 [==============================] - 0s 50ms/step\n",
      "1/1 [==============================] - 0s 50ms/step\n",
      "1/1 [==============================] - 0s 50ms/step\n",
      "1/1 [==============================] - 0s 51ms/step\n",
      "1/1 [==============================] - 0s 51ms/step\n",
      "1/1 [==============================] - 0s 50ms/step\n",
      "1/1 [==============================] - 0s 50ms/step\n",
      "1/1 [==============================] - 0s 52ms/step\n",
      "1/1 [==============================] - 0s 51ms/step\n",
      "1/1 [==============================] - 0s 58ms/step\n",
      "1/1 [==============================] - 0s 52ms/step\n",
      "1/1 [==============================] - 0s 51ms/step\n",
      "1/1 [==============================] - 0s 51ms/step\n",
      "1/1 [==============================] - 0s 51ms/step\n",
      "1/1 [==============================] - 0s 53ms/step\n",
      "1/1 [==============================] - 0s 54ms/step\n",
      "1/1 [==============================] - 0s 53ms/step\n",
      "1/1 [==============================] - 0s 50ms/step\n",
      "1/1 [==============================] - 0s 50ms/step\n",
      "1/1 [==============================] - 0s 51ms/step\n",
      "1/1 [==============================] - 0s 52ms/step\n",
      "1/1 [==============================] - 0s 52ms/step\n",
      "1/1 [==============================] - 0s 54ms/step\n",
      "1/1 [==============================] - 0s 50ms/step\n",
      "1/1 [==============================] - 0s 51ms/step\n",
      "1/1 [==============================] - 0s 51ms/step\n",
      "1/1 [==============================] - 0s 50ms/step\n",
      "1/1 [==============================] - 0s 50ms/step\n",
      "1/1 [==============================] - 0s 50ms/step\n",
      "1/1 [==============================] - 0s 51ms/step\n",
      "1/1 [==============================] - 0s 51ms/step\n",
      "1/1 [==============================] - 0s 53ms/step\n",
      "1/1 [==============================] - 0s 51ms/step\n",
      "1/1 [==============================] - 0s 50ms/step\n",
      "1/1 [==============================] - 0s 50ms/step\n",
      "1/1 [==============================] - 0s 51ms/step\n",
      "1/1 [==============================] - 0s 52ms/step\n",
      "1/1 [==============================] - 0s 53ms/step\n",
      "1/1 [==============================] - 0s 51ms/step\n",
      "1/1 [==============================] - 0s 49ms/step\n",
      "1/1 [==============================] - 0s 51ms/step\n",
      "1/1 [==============================] - 0s 51ms/step\n",
      "1/1 [==============================] - 0s 50ms/step\n",
      "1/1 [==============================] - 0s 55ms/step\n",
      "1/1 [==============================] - 0s 51ms/step\n",
      "1/1 [==============================] - 0s 51ms/step\n",
      "1/1 [==============================] - 0s 50ms/step\n",
      "1/1 [==============================] - 0s 51ms/step\n",
      "1/1 [==============================] - 0s 57ms/step\n",
      "1/1 [==============================] - 0s 51ms/step\n",
      "1/1 [==============================] - 0s 51ms/step\n",
      "1/1 [==============================] - 0s 56ms/step\n",
      "1/1 [==============================] - 0s 58ms/step\n",
      "1/1 [==============================] - 0s 56ms/step\n",
      "1/1 [==============================] - 0s 57ms/step\n",
      "1/1 [==============================] - 0s 90ms/step\n",
      "1/1 [==============================] - 0s 74ms/step\n",
      "1/1 [==============================] - 0s 83ms/step\n",
      "1/1 [==============================] - 0s 81ms/step\n",
      "1/1 [==============================] - 0s 54ms/step\n",
      "1/1 [==============================] - 0s 54ms/step\n",
      "1/1 [==============================] - 0s 56ms/step\n",
      "1/1 [==============================] - 0s 56ms/step\n",
      "1/1 [==============================] - 0s 55ms/step\n",
      "1/1 [==============================] - 0s 55ms/step\n",
      "1/1 [==============================] - 0s 54ms/step\n",
      "1/1 [==============================] - 0s 55ms/step\n",
      "1/1 [==============================] - 0s 56ms/step\n",
      "1/1 [==============================] - 0s 56ms/step\n",
      "1/1 [==============================] - 0s 55ms/step\n",
      "1/1 [==============================] - 0s 55ms/step\n",
      "1/1 [==============================] - 0s 56ms/step\n",
      "1/1 [==============================] - 0s 57ms/step\n",
      "1/1 [==============================] - 0s 57ms/step\n",
      "1/1 [==============================] - 0s 57ms/step\n",
      "1/1 [==============================] - 0s 55ms/step\n",
      "1/1 [==============================] - 0s 57ms/step\n",
      "1/1 [==============================] - 0s 56ms/step\n",
      "1/1 [==============================] - 0s 57ms/step\n",
      "1/1 [==============================] - 0s 58ms/step\n",
      "1/1 [==============================] - 0s 57ms/step\n",
      "1/1 [==============================] - 0s 57ms/step\n",
      "1/1 [==============================] - 0s 58ms/step\n",
      "1/1 [==============================] - 0s 57ms/step\n",
      "1/1 [==============================] - 0s 57ms/step\n",
      "1/1 [==============================] - 0s 56ms/step\n",
      "1/1 [==============================] - 0s 57ms/step\n",
      "1/1 [==============================] - 0s 56ms/step\n",
      "1/1 [==============================] - 0s 57ms/step\n",
      "1/1 [==============================] - 0s 56ms/step\n",
      "1/1 [==============================] - 0s 56ms/step\n",
      "1/1 [==============================] - 0s 56ms/step\n",
      "1/1 [==============================] - 0s 57ms/step\n",
      "1/1 [==============================] - 0s 57ms/step\n",
      "1/1 [==============================] - 0s 57ms/step\n",
      "1/1 [==============================] - 0s 57ms/step\n",
      "1/1 [==============================] - 0s 58ms/step\n",
      "1/1 [==============================] - 0s 57ms/step\n",
      "1/1 [==============================] - 0s 58ms/step\n",
      "1/1 [==============================] - 0s 56ms/step\n",
      "1/1 [==============================] - 0s 56ms/step\n",
      "1/1 [==============================] - 0s 55ms/step\n",
      "1/1 [==============================] - 0s 56ms/step\n",
      "1/1 [==============================] - 0s 55ms/step\n",
      "1/1 [==============================] - 0s 55ms/step\n",
      "1/1 [==============================] - 0s 54ms/step\n",
      "1/1 [==============================] - 0s 53ms/step\n",
      "1/1 [==============================] - 0s 50ms/step\n",
      "1/1 [==============================] - 0s 52ms/step\n",
      "1/1 [==============================] - 0s 51ms/step\n",
      "1/1 [==============================] - 0s 50ms/step\n",
      "1/1 [==============================] - 0s 51ms/step\n",
      "1/1 [==============================] - 0s 50ms/step\n",
      "1/1 [==============================] - 0s 50ms/step\n",
      "1/1 [==============================] - 0s 53ms/step\n",
      "1/1 [==============================] - 0s 53ms/step\n",
      "1/1 [==============================] - 0s 51ms/step\n",
      "1/1 [==============================] - 0s 51ms/step\n",
      "1/1 [==============================] - 0s 51ms/step\n",
      "1/1 [==============================] - 0s 51ms/step\n",
      "1/1 [==============================] - 0s 52ms/step\n",
      "1/1 [==============================] - 0s 51ms/step\n",
      "1/1 [==============================] - 0s 50ms/step\n",
      "1/1 [==============================] - 0s 51ms/step\n",
      "1/1 [==============================] - 0s 79ms/step\n",
      "1/1 [==============================] - 0s 79ms/step\n",
      "1/1 [==============================] - 0s 76ms/step\n",
      "1/1 [==============================] - 0s 76ms/step\n",
      "1/1 [==============================] - 0s 76ms/step\n",
      "1/1 [==============================] - 0s 76ms/step\n",
      "1/1 [==============================] - 0s 77ms/step\n",
      "1/1 [==============================] - 0s 79ms/step\n",
      "1/1 [==============================] - 0s 76ms/step\n",
      "1/1 [==============================] - 0s 78ms/step\n",
      "1/1 [==============================] - 0s 78ms/step\n",
      "1/1 [==============================] - 0s 78ms/step\n",
      "1/1 [==============================] - 0s 78ms/step\n",
      "1/1 [==============================] - 0s 80ms/step\n",
      "1/1 [==============================] - 0s 79ms/step\n",
      "1/1 [==============================] - 0s 76ms/step\n",
      "1/1 [==============================] - 0s 79ms/step\n",
      "1/1 [==============================] - 0s 81ms/step\n",
      "1/1 [==============================] - 0s 79ms/step\n",
      "1/1 [==============================] - 0s 77ms/step\n",
      "1/1 [==============================] - 0s 78ms/step\n",
      "1/1 [==============================] - 0s 78ms/step\n",
      "1/1 [==============================] - 0s 83ms/step\n",
      "1/1 [==============================] - 0s 76ms/step\n",
      "1/1 [==============================] - 0s 76ms/step\n",
      "1/1 [==============================] - 0s 80ms/step\n",
      "1/1 [==============================] - 0s 78ms/step\n",
      "1/1 [==============================] - 0s 77ms/step\n",
      "1/1 [==============================] - 0s 77ms/step\n",
      "1/1 [==============================] - 0s 77ms/step\n",
      "1/1 [==============================] - 0s 80ms/step\n",
      "1/1 [==============================] - 0s 76ms/step\n",
      "1/1 [==============================] - 0s 80ms/step\n",
      "1/1 [==============================] - 0s 167ms/step\n",
      "1/1 [==============================] - 0s 138ms/step\n",
      "1/1 [==============================] - 0s 80ms/step\n",
      "1/1 [==============================] - 0s 89ms/step\n",
      "1/1 [==============================] - 0s 89ms/step\n",
      "1/1 [==============================] - 0s 59ms/step\n",
      "1/1 [==============================] - 0s 58ms/step\n",
      "1/1 [==============================] - 0s 59ms/step\n",
      "1/1 [==============================] - 0s 58ms/step\n",
      "1/1 [==============================] - 0s 58ms/step\n",
      "1/1 [==============================] - 0s 59ms/step\n",
      "1/1 [==============================] - 0s 58ms/step\n",
      "1/1 [==============================] - 0s 58ms/step\n",
      "1/1 [==============================] - 0s 60ms/step\n",
      "1/1 [==============================] - 0s 59ms/step\n",
      "1/1 [==============================] - 0s 58ms/step\n",
      "1/1 [==============================] - 0s 58ms/step\n",
      "1/1 [==============================] - 0s 58ms/step\n",
      "1/1 [==============================] - 0s 58ms/step\n",
      "1/1 [==============================] - 0s 60ms/step\n",
      "1/1 [==============================] - 0s 60ms/step\n",
      "1/1 [==============================] - 0s 59ms/step\n",
      "1/1 [==============================] - 0s 58ms/step\n",
      "1/1 [==============================] - 0s 55ms/step\n",
      "1/1 [==============================] - 0s 53ms/step\n",
      "1/1 [==============================] - 0s 55ms/step\n",
      "1/1 [==============================] - 0s 55ms/step\n",
      "1/1 [==============================] - 0s 55ms/step\n",
      "1/1 [==============================] - 0s 54ms/step\n",
      "1/1 [==============================] - 0s 55ms/step\n",
      "1/1 [==============================] - 0s 54ms/step\n",
      "1/1 [==============================] - 0s 54ms/step\n",
      "1/1 [==============================] - 0s 88ms/step\n",
      "1/1 [==============================] - 0s 82ms/step\n",
      "1/1 [==============================] - 0s 78ms/step\n",
      "1/1 [==============================] - 0s 73ms/step\n",
      "1/1 [==============================] - 0s 90ms/step\n",
      "1/1 [==============================] - 0s 79ms/step\n",
      "1/1 [==============================] - 0s 81ms/step\n",
      "1/1 [==============================] - 0s 66ms/step\n",
      "1/1 [==============================] - 0s 60ms/step\n",
      "1/1 [==============================] - 0s 60ms/step\n",
      "1/1 [==============================] - 0s 62ms/step\n",
      "1/1 [==============================] - 0s 61ms/step\n",
      "1/1 [==============================] - 0s 59ms/step\n",
      "1/1 [==============================] - 0s 59ms/step\n",
      "1/1 [==============================] - 0s 58ms/step\n",
      "1/1 [==============================] - 0s 59ms/step\n",
      "1/1 [==============================] - 0s 58ms/step\n",
      "1/1 [==============================] - 0s 59ms/step\n",
      "1/1 [==============================] - 0s 59ms/step\n",
      "1/1 [==============================] - 0s 59ms/step\n",
      "1/1 [==============================] - 0s 59ms/step\n",
      "1/1 [==============================] - 0s 59ms/step\n",
      "1/1 [==============================] - 0s 57ms/step\n",
      "1/1 [==============================] - 0s 59ms/step\n",
      "1/1 [==============================] - 0s 58ms/step\n",
      "1/1 [==============================] - 0s 58ms/step\n",
      "1/1 [==============================] - 0s 58ms/step\n",
      "1/1 [==============================] - 0s 58ms/step\n",
      "1/1 [==============================] - 0s 57ms/step\n",
      "1/1 [==============================] - 0s 57ms/step\n",
      "1/1 [==============================] - 0s 59ms/step\n",
      "1/1 [==============================] - 0s 58ms/step\n",
      "1/1 [==============================] - 0s 58ms/step\n",
      "1/1 [==============================] - 0s 59ms/step\n",
      "1/1 [==============================] - 0s 58ms/step\n",
      "1/1 [==============================] - 0s 58ms/step\n",
      "1/1 [==============================] - 0s 57ms/step\n",
      "1/1 [==============================] - 0s 57ms/step\n",
      "1/1 [==============================] - 0s 57ms/step\n",
      "1/1 [==============================] - 0s 57ms/step\n",
      "1/1 [==============================] - 0s 59ms/step\n",
      "1/1 [==============================] - 0s 59ms/step\n",
      "1/1 [==============================] - 0s 57ms/step\n",
      "1/1 [==============================] - 0s 58ms/step\n",
      "1/1 [==============================] - 0s 58ms/step\n",
      "1/1 [==============================] - 0s 59ms/step\n",
      "1/1 [==============================] - 0s 57ms/step\n",
      "1/1 [==============================] - 0s 58ms/step\n",
      "1/1 [==============================] - 0s 57ms/step\n",
      "1/1 [==============================] - 0s 58ms/step\n",
      "1/1 [==============================] - 0s 59ms/step\n",
      "1/1 [==============================] - 0s 58ms/step\n",
      "1/1 [==============================] - 0s 57ms/step\n",
      "1/1 [==============================] - 0s 56ms/step\n",
      "1/1 [==============================] - 0s 53ms/step\n",
      "1/1 [==============================] - 0s 53ms/step\n",
      "1/1 [==============================] - 0s 52ms/step\n",
      "1/1 [==============================] - 0s 52ms/step\n",
      "1/1 [==============================] - 0s 52ms/step\n",
      "1/1 [==============================] - 0s 51ms/step\n",
      "1/1 [==============================] - 0s 53ms/step\n",
      "1/1 [==============================] - 0s 54ms/step\n",
      "1/1 [==============================] - 0s 52ms/step\n",
      "1/1 [==============================] - 0s 53ms/step\n",
      "1/1 [==============================] - 0s 53ms/step\n",
      "1/1 [==============================] - 0s 53ms/step\n",
      "1/1 [==============================] - 0s 52ms/step\n",
      "1/1 [==============================] - 0s 52ms/step\n",
      "1/1 [==============================] - 0s 52ms/step\n",
      "1/1 [==============================] - 0s 54ms/step\n",
      "1/1 [==============================] - 0s 54ms/step\n",
      "1/1 [==============================] - 0s 127ms/step\n",
      "1/1 [==============================] - 0s 77ms/step\n",
      "1/1 [==============================] - 0s 74ms/step\n",
      "1/1 [==============================] - 0s 72ms/step\n",
      "1/1 [==============================] - 0s 63ms/step\n",
      "1/1 [==============================] - 0s 58ms/step\n",
      "1/1 [==============================] - 0s 58ms/step\n",
      "1/1 [==============================] - 0s 59ms/step\n",
      "1/1 [==============================] - 0s 59ms/step\n",
      "1/1 [==============================] - 0s 57ms/step\n",
      "1/1 [==============================] - 0s 57ms/step\n",
      "1/1 [==============================] - 0s 55ms/step\n",
      "1/1 [==============================] - 0s 54ms/step\n",
      "1/1 [==============================] - 0s 53ms/step\n",
      "1/1 [==============================] - 0s 54ms/step\n",
      "1/1 [==============================] - 0s 53ms/step\n",
      "1/1 [==============================] - 0s 51ms/step\n",
      "1/1 [==============================] - 0s 54ms/step\n",
      "1/1 [==============================] - 0s 54ms/step\n",
      "1/1 [==============================] - 0s 53ms/step\n",
      "1/1 [==============================] - 0s 56ms/step\n",
      "1/1 [==============================] - 0s 53ms/step\n",
      "1/1 [==============================] - 0s 53ms/step\n",
      "1/1 [==============================] - 0s 53ms/step\n",
      "1/1 [==============================] - 0s 54ms/step\n",
      "1/1 [==============================] - 0s 53ms/step\n",
      "1/1 [==============================] - 0s 54ms/step\n",
      "1/1 [==============================] - 0s 54ms/step\n",
      "1/1 [==============================] - 0s 55ms/step\n",
      "1/1 [==============================] - 0s 53ms/step\n",
      "1/1 [==============================] - 0s 52ms/step\n",
      "1/1 [==============================] - 0s 51ms/step\n",
      "1/1 [==============================] - 0s 51ms/step\n",
      "1/1 [==============================] - 0s 52ms/step\n",
      "1/1 [==============================] - 0s 53ms/step\n",
      "1/1 [==============================] - 0s 51ms/step\n",
      "1/1 [==============================] - 0s 52ms/step\n",
      "1/1 [==============================] - 0s 52ms/step\n",
      "1/1 [==============================] - 0s 52ms/step\n",
      "1/1 [==============================] - 0s 53ms/step\n",
      "1/1 [==============================] - 0s 51ms/step\n",
      "1/1 [==============================] - 0s 50ms/step\n",
      "1/1 [==============================] - 0s 51ms/step\n",
      "1/1 [==============================] - 0s 52ms/step\n",
      "1/1 [==============================] - 0s 55ms/step\n",
      "1/1 [==============================] - 0s 55ms/step\n",
      "1/1 [==============================] - 0s 51ms/step\n",
      "1/1 [==============================] - 0s 51ms/step\n",
      "1/1 [==============================] - 0s 52ms/step\n",
      "1/1 [==============================] - 0s 53ms/step\n",
      "1/1 [==============================] - 0s 51ms/step\n",
      "1/1 [==============================] - 0s 51ms/step\n",
      "1/1 [==============================] - 0s 50ms/step\n",
      "1/1 [==============================] - 0s 49ms/step\n",
      "1/1 [==============================] - 0s 50ms/step\n",
      "1/1 [==============================] - 0s 50ms/step\n",
      "1/1 [==============================] - 0s 50ms/step\n",
      "1/1 [==============================] - 0s 49ms/step\n",
      "1/1 [==============================] - 0s 50ms/step\n",
      "1/1 [==============================] - 0s 52ms/step\n",
      "1/1 [==============================] - 0s 50ms/step\n",
      "1/1 [==============================] - 0s 53ms/step\n",
      "1/1 [==============================] - 0s 52ms/step\n",
      "1/1 [==============================] - 0s 51ms/step\n",
      "1/1 [==============================] - 0s 50ms/step\n",
      "1/1 [==============================] - 0s 51ms/step\n",
      "1/1 [==============================] - 0s 51ms/step\n",
      "1/1 [==============================] - 0s 53ms/step\n",
      "1/1 [==============================] - 0s 52ms/step\n",
      "1/1 [==============================] - 0s 51ms/step\n",
      "1/1 [==============================] - 0s 51ms/step\n",
      "1/1 [==============================] - 0s 52ms/step\n",
      "1/1 [==============================] - 0s 52ms/step\n",
      "1/1 [==============================] - 0s 52ms/step\n",
      "1/1 [==============================] - 0s 54ms/step\n",
      "1/1 [==============================] - 0s 51ms/step\n",
      "1/1 [==============================] - 0s 51ms/step\n",
      "1/1 [==============================] - 0s 51ms/step\n",
      "1/1 [==============================] - 0s 49ms/step\n",
      "1/1 [==============================] - 0s 50ms/step\n",
      "1/1 [==============================] - 0s 50ms/step\n",
      "1/1 [==============================] - 0s 52ms/step\n",
      "1/1 [==============================] - 0s 56ms/step\n",
      "1/1 [==============================] - 0s 58ms/step\n",
      "1/1 [==============================] - 0s 56ms/step\n",
      "1/1 [==============================] - 0s 56ms/step\n",
      "1/1 [==============================] - 0s 54ms/step\n",
      "1/1 [==============================] - 0s 54ms/step\n",
      "1/1 [==============================] - 0s 52ms/step\n",
      "1/1 [==============================] - 0s 52ms/step\n",
      "1/1 [==============================] - 0s 52ms/step\n",
      "1/1 [==============================] - 0s 51ms/step\n",
      "1/1 [==============================] - 0s 53ms/step\n",
      "1/1 [==============================] - 0s 53ms/step\n",
      "1/1 [==============================] - 0s 52ms/step\n",
      "1/1 [==============================] - 0s 53ms/step\n",
      "1/1 [==============================] - 0s 52ms/step\n",
      "1/1 [==============================] - 0s 52ms/step\n",
      "1/1 [==============================] - 0s 53ms/step\n",
      "1/1 [==============================] - 0s 52ms/step\n",
      "1/1 [==============================] - 0s 52ms/step\n",
      "1/1 [==============================] - 0s 51ms/step\n",
      "1/1 [==============================] - 0s 50ms/step\n",
      "1/1 [==============================] - 0s 52ms/step\n",
      "1/1 [==============================] - 0s 53ms/step\n",
      "1/1 [==============================] - 0s 66ms/step\n",
      "1/1 [==============================] - 0s 51ms/step\n",
      "1/1 [==============================] - 0s 51ms/step\n",
      "1/1 [==============================] - 0s 50ms/step\n",
      "1/1 [==============================] - 0s 52ms/step\n",
      "1/1 [==============================] - 0s 51ms/step\n",
      "1/1 [==============================] - 0s 53ms/step\n",
      "1/1 [==============================] - 0s 51ms/step\n",
      "1/1 [==============================] - 0s 50ms/step\n",
      "1/1 [==============================] - 0s 51ms/step\n",
      "1/1 [==============================] - 0s 52ms/step\n",
      "1/1 [==============================] - 0s 76ms/step\n",
      "1/1 [==============================] - 0s 84ms/step\n",
      "1/1 [==============================] - 0s 75ms/step\n",
      "1/1 [==============================] - 0s 73ms/step\n",
      "1/1 [==============================] - 0s 77ms/step\n",
      "1/1 [==============================] - 0s 55ms/step\n",
      "1/1 [==============================] - 0s 55ms/step\n",
      "1/1 [==============================] - 0s 54ms/step\n",
      "1/1 [==============================] - 0s 57ms/step\n",
      "1/1 [==============================] - 0s 55ms/step\n",
      "1/1 [==============================] - 0s 56ms/step\n",
      "1/1 [==============================] - 0s 55ms/step\n",
      "1/1 [==============================] - 0s 56ms/step\n",
      "1/1 [==============================] - 0s 56ms/step\n",
      "1/1 [==============================] - 0s 57ms/step\n",
      "1/1 [==============================] - 0s 56ms/step\n",
      "1/1 [==============================] - 0s 57ms/step\n",
      "1/1 [==============================] - 0s 56ms/step\n",
      "1/1 [==============================] - 0s 58ms/step\n",
      "1/1 [==============================] - 0s 56ms/step\n",
      "1/1 [==============================] - 0s 56ms/step\n",
      "1/1 [==============================] - 0s 56ms/step\n",
      "1/1 [==============================] - 0s 57ms/step\n",
      "1/1 [==============================] - 0s 57ms/step\n",
      "1/1 [==============================] - 0s 57ms/step\n",
      "1/1 [==============================] - 0s 56ms/step\n",
      "1/1 [==============================] - 0s 57ms/step\n",
      "1/1 [==============================] - 0s 57ms/step\n",
      "1/1 [==============================] - 0s 68ms/step\n",
      "1/1 [==============================] - 0s 58ms/step\n",
      "1/1 [==============================] - 0s 58ms/step\n",
      "1/1 [==============================] - 0s 57ms/step\n",
      "1/1 [==============================] - 0s 55ms/step\n",
      "1/1 [==============================] - 0s 54ms/step\n",
      "1/1 [==============================] - 0s 52ms/step\n",
      "1/1 [==============================] - 0s 50ms/step\n",
      "1/1 [==============================] - 0s 51ms/step\n",
      "1/1 [==============================] - 0s 51ms/step\n",
      "1/1 [==============================] - 0s 53ms/step\n",
      "1/1 [==============================] - 0s 53ms/step\n",
      "1/1 [==============================] - 0s 52ms/step\n",
      "1/1 [==============================] - 0s 52ms/step\n",
      "1/1 [==============================] - 0s 52ms/step\n",
      "1/1 [==============================] - 0s 51ms/step\n",
      "1/1 [==============================] - 0s 52ms/step\n",
      "1/1 [==============================] - 0s 51ms/step\n",
      "1/1 [==============================] - 0s 52ms/step\n",
      "1/1 [==============================] - 0s 51ms/step\n",
      "1/1 [==============================] - 0s 51ms/step\n",
      "1/1 [==============================] - 0s 54ms/step\n",
      "1/1 [==============================] - 0s 54ms/step\n",
      "1/1 [==============================] - 0s 52ms/step\n",
      "1/1 [==============================] - 0s 52ms/step\n",
      "1/1 [==============================] - 0s 51ms/step\n",
      "1/1 [==============================] - 0s 51ms/step\n",
      "1/1 [==============================] - 0s 51ms/step\n",
      "1/1 [==============================] - 0s 53ms/step\n",
      "1/1 [==============================] - 0s 51ms/step\n",
      "1/1 [==============================] - 0s 52ms/step\n",
      "1/1 [==============================] - 0s 53ms/step\n",
      "1/1 [==============================] - 0s 54ms/step\n",
      "1/1 [==============================] - 0s 53ms/step\n",
      "1/1 [==============================] - 0s 53ms/step\n",
      "1/1 [==============================] - 0s 50ms/step\n",
      "1/1 [==============================] - 0s 51ms/step\n",
      "1/1 [==============================] - 0s 51ms/step\n",
      "1/1 [==============================] - 0s 54ms/step\n",
      "1/1 [==============================] - 0s 53ms/step\n",
      "1/1 [==============================] - 0s 51ms/step\n",
      "1/1 [==============================] - 0s 51ms/step\n",
      "1/1 [==============================] - 0s 52ms/step\n",
      "1/1 [==============================] - 0s 52ms/step\n",
      "1/1 [==============================] - 0s 53ms/step\n",
      "1/1 [==============================] - 0s 52ms/step\n",
      "1/1 [==============================] - 0s 51ms/step\n",
      "1/1 [==============================] - 0s 51ms/step\n",
      "1/1 [==============================] - 0s 50ms/step\n",
      "1/1 [==============================] - 0s 52ms/step\n",
      "1/1 [==============================] - 0s 51ms/step\n",
      "1/1 [==============================] - 0s 51ms/step\n",
      "1/1 [==============================] - 0s 50ms/step\n",
      "1/1 [==============================] - 0s 51ms/step\n",
      "1/1 [==============================] - 0s 52ms/step\n",
      "1/1 [==============================] - 0s 55ms/step\n",
      "1/1 [==============================] - 0s 53ms/step\n",
      "1/1 [==============================] - 0s 52ms/step\n",
      "1/1 [==============================] - 0s 52ms/step\n",
      "1/1 [==============================] - 0s 79ms/step\n",
      "1/1 [==============================] - 0s 81ms/step\n",
      "1/1 [==============================] - 0s 79ms/step\n",
      "1/1 [==============================] - 0s 82ms/step\n",
      "1/1 [==============================] - 0s 81ms/step\n",
      "1/1 [==============================] - 0s 86ms/step\n",
      "1/1 [==============================] - 0s 87ms/step\n",
      "1/1 [==============================] - 0s 79ms/step\n",
      "1/1 [==============================] - 0s 79ms/step\n",
      "1/1 [==============================] - 0s 79ms/step\n",
      "1/1 [==============================] - 0s 78ms/step\n",
      "1/1 [==============================] - 0s 79ms/step\n",
      "1/1 [==============================] - 0s 80ms/step\n",
      "1/1 [==============================] - 0s 81ms/step\n",
      "1/1 [==============================] - 0s 78ms/step\n",
      "1/1 [==============================] - 0s 87ms/step\n",
      "1/1 [==============================] - 0s 80ms/step\n",
      "1/1 [==============================] - 0s 79ms/step\n",
      "1/1 [==============================] - 0s 80ms/step\n",
      "1/1 [==============================] - 0s 79ms/step\n",
      "1/1 [==============================] - 0s 80ms/step\n",
      "1/1 [==============================] - 0s 161ms/step\n",
      "1/1 [==============================] - 0s 154ms/step\n",
      "1/1 [==============================] - 0s 145ms/step\n",
      "1/1 [==============================] - 0s 81ms/step\n",
      "1/1 [==============================] - 0s 88ms/step\n",
      "1/1 [==============================] - 0s 79ms/step\n",
      "1/1 [==============================] - 0s 77ms/step\n",
      "1/1 [==============================] - 0s 78ms/step\n",
      "1/1 [==============================] - 0s 78ms/step\n",
      "1/1 [==============================] - 0s 144ms/step\n",
      "1/1 [==============================] - 0s 145ms/step\n",
      "1/1 [==============================] - 0s 82ms/step\n",
      "1/1 [==============================] - 0s 86ms/step\n",
      "1/1 [==============================] - 0s 77ms/step\n",
      "1/1 [==============================] - 0s 76ms/step\n",
      "1/1 [==============================] - 0s 76ms/step\n",
      "1/1 [==============================] - 0s 76ms/step\n",
      "1/1 [==============================] - 0s 72ms/step\n",
      "1/1 [==============================] - 0s 64ms/step\n",
      "1/1 [==============================] - 0s 61ms/step\n",
      "1/1 [==============================] - 0s 58ms/step\n",
      "1/1 [==============================] - 0s 59ms/step\n",
      "1/1 [==============================] - 0s 59ms/step\n",
      "1/1 [==============================] - 0s 58ms/step\n",
      "1/1 [==============================] - 0s 59ms/step\n",
      "1/1 [==============================] - 0s 58ms/step\n",
      "1/1 [==============================] - 0s 58ms/step\n",
      "1/1 [==============================] - 0s 58ms/step\n",
      "1/1 [==============================] - 0s 58ms/step\n",
      "1/1 [==============================] - 0s 58ms/step\n",
      "1/1 [==============================] - 0s 58ms/step\n",
      "1/1 [==============================] - 0s 57ms/step\n",
      "1/1 [==============================] - 0s 58ms/step\n",
      "1/1 [==============================] - 0s 57ms/step\n",
      "1/1 [==============================] - 0s 58ms/step\n",
      "1/1 [==============================] - 0s 57ms/step\n",
      "1/1 [==============================] - 0s 58ms/step\n",
      "1/1 [==============================] - 0s 59ms/step\n",
      "1/1 [==============================] - 0s 58ms/step\n",
      "1/1 [==============================] - 0s 57ms/step\n",
      "1/1 [==============================] - 0s 59ms/step\n",
      "1/1 [==============================] - 0s 58ms/step\n",
      "1/1 [==============================] - 0s 58ms/step\n",
      "1/1 [==============================] - 0s 57ms/step\n",
      "1/1 [==============================] - 0s 58ms/step\n",
      "1/1 [==============================] - 0s 56ms/step\n",
      "1/1 [==============================] - 0s 53ms/step\n",
      "1/1 [==============================] - 0s 54ms/step\n",
      "1/1 [==============================] - 0s 53ms/step\n",
      "1/1 [==============================] - 0s 51ms/step\n",
      "1/1 [==============================] - 0s 50ms/step\n",
      "1/1 [==============================] - 0s 51ms/step\n",
      "1/1 [==============================] - 0s 52ms/step\n",
      "1/1 [==============================] - 0s 52ms/step\n",
      "1/1 [==============================] - 0s 52ms/step\n",
      "1/1 [==============================] - 0s 52ms/step\n",
      "1/1 [==============================] - 0s 51ms/step\n",
      "1/1 [==============================] - 0s 52ms/step\n",
      "1/1 [==============================] - 0s 52ms/step\n",
      "1/1 [==============================] - 0s 51ms/step\n",
      "1/1 [==============================] - 0s 50ms/step\n",
      "1/1 [==============================] - 0s 50ms/step\n",
      "1/1 [==============================] - 0s 52ms/step\n",
      "1/1 [==============================] - 0s 52ms/step\n",
      "1/1 [==============================] - 0s 51ms/step\n",
      "1/1 [==============================] - 0s 51ms/step\n",
      "1/1 [==============================] - 0s 50ms/step\n",
      "1/1 [==============================] - 0s 50ms/step\n",
      "1/1 [==============================] - 0s 52ms/step\n",
      "1/1 [==============================] - 0s 58ms/step\n",
      "1/1 [==============================] - 0s 58ms/step\n",
      "1/1 [==============================] - 0s 52ms/step\n",
      "1/1 [==============================] - 0s 52ms/step\n",
      "1/1 [==============================] - 0s 52ms/step\n",
      "1/1 [==============================] - 0s 54ms/step\n",
      "1/1 [==============================] - 0s 51ms/step\n",
      "1/1 [==============================] - 0s 54ms/step\n",
      "1/1 [==============================] - 0s 52ms/step\n",
      "1/1 [==============================] - 0s 53ms/step\n",
      "1/1 [==============================] - 0s 52ms/step\n",
      "1/1 [==============================] - 0s 53ms/step\n",
      "1/1 [==============================] - 0s 52ms/step\n",
      "1/1 [==============================] - 0s 51ms/step\n",
      "1/1 [==============================] - 0s 51ms/step\n",
      "1/1 [==============================] - 0s 52ms/step\n",
      "1/1 [==============================] - 0s 51ms/step\n",
      "1/1 [==============================] - 0s 51ms/step\n",
      "1/1 [==============================] - 0s 50ms/step\n",
      "1/1 [==============================] - 0s 50ms/step\n",
      "1/1 [==============================] - 0s 50ms/step\n",
      "1/1 [==============================] - 0s 50ms/step\n",
      "1/1 [==============================] - 0s 51ms/step\n",
      "1/1 [==============================] - 0s 61ms/step\n",
      "1/1 [==============================] - 0s 53ms/step\n",
      "1/1 [==============================] - 0s 50ms/step\n",
      "1/1 [==============================] - 0s 51ms/step\n",
      "1/1 [==============================] - 0s 51ms/step\n",
      "1/1 [==============================] - 0s 51ms/step\n",
      "1/1 [==============================] - 0s 52ms/step\n",
      "1/1 [==============================] - 0s 51ms/step\n",
      "1/1 [==============================] - 0s 50ms/step\n",
      "1/1 [==============================] - 0s 50ms/step\n",
      "1/1 [==============================] - 0s 51ms/step\n",
      "1/1 [==============================] - 0s 73ms/step\n",
      "1/1 [==============================] - 0s 84ms/step\n",
      "1/1 [==============================] - 0s 74ms/step\n",
      "1/1 [==============================] - 0s 73ms/step\n",
      "1/1 [==============================] - 0s 79ms/step\n",
      "1/1 [==============================] - 0s 55ms/step\n",
      "1/1 [==============================] - 0s 53ms/step\n",
      "1/1 [==============================] - 0s 56ms/step\n",
      "1/1 [==============================] - 0s 55ms/step\n",
      "1/1 [==============================] - 0s 60ms/step\n",
      "1/1 [==============================] - 0s 56ms/step\n",
      "1/1 [==============================] - 0s 56ms/step\n",
      "1/1 [==============================] - 0s 55ms/step\n",
      "1/1 [==============================] - 0s 58ms/step\n",
      "1/1 [==============================] - 0s 56ms/step\n",
      "1/1 [==============================] - 0s 56ms/step\n",
      "1/1 [==============================] - 0s 55ms/step\n",
      "1/1 [==============================] - 0s 55ms/step\n",
      "1/1 [==============================] - 0s 55ms/step\n",
      "1/1 [==============================] - 0s 58ms/step\n",
      "1/1 [==============================] - 0s 55ms/step\n",
      "1/1 [==============================] - 0s 56ms/step\n",
      "1/1 [==============================] - 0s 56ms/step\n",
      "1/1 [==============================] - 0s 56ms/step\n",
      "1/1 [==============================] - 0s 56ms/step\n",
      "1/1 [==============================] - 0s 56ms/step\n",
      "1/1 [==============================] - 0s 56ms/step\n",
      "1/1 [==============================] - 0s 57ms/step\n",
      "1/1 [==============================] - 0s 56ms/step\n",
      "1/1 [==============================] - 0s 57ms/step\n",
      "1/1 [==============================] - 0s 56ms/step\n",
      "1/1 [==============================] - 0s 57ms/step\n",
      "1/1 [==============================] - 0s 56ms/step\n",
      "1/1 [==============================] - 0s 57ms/step\n",
      "1/1 [==============================] - 0s 56ms/step\n",
      "1/1 [==============================] - 0s 57ms/step\n",
      "1/1 [==============================] - 0s 56ms/step\n",
      "1/1 [==============================] - 0s 57ms/step\n",
      "1/1 [==============================] - 0s 57ms/step\n",
      "1/1 [==============================] - 0s 59ms/step\n",
      "1/1 [==============================] - 0s 56ms/step\n",
      "1/1 [==============================] - 0s 58ms/step\n",
      "1/1 [==============================] - 0s 65ms/step\n",
      "1/1 [==============================] - 0s 63ms/step\n",
      "1/1 [==============================] - 0s 60ms/step\n",
      "1/1 [==============================] - 0s 61ms/step\n",
      "1/1 [==============================] - 0s 60ms/step\n",
      "1/1 [==============================] - 0s 61ms/step\n",
      "1/1 [==============================] - 0s 59ms/step\n",
      "1/1 [==============================] - 0s 59ms/step\n",
      "1/1 [==============================] - 0s 62ms/step\n",
      "1/1 [==============================] - 0s 63ms/step\n",
      "1/1 [==============================] - 0s 62ms/step\n",
      "1/1 [==============================] - 0s 60ms/step\n",
      "1/1 [==============================] - 0s 60ms/step\n",
      "1/1 [==============================] - 0s 61ms/step\n",
      "1/1 [==============================] - 0s 60ms/step\n",
      "1/1 [==============================] - 0s 59ms/step\n",
      "1/1 [==============================] - 0s 58ms/step\n",
      "1/1 [==============================] - 0s 58ms/step\n",
      "1/1 [==============================] - 0s 57ms/step\n",
      "1/1 [==============================] - 0s 59ms/step\n",
      "1/1 [==============================] - 0s 58ms/step\n",
      "1/1 [==============================] - 0s 59ms/step\n",
      "1/1 [==============================] - 0s 61ms/step\n",
      "1/1 [==============================] - 0s 59ms/step\n",
      "1/1 [==============================] - 0s 57ms/step\n",
      "1/1 [==============================] - 0s 58ms/step\n",
      "1/1 [==============================] - 0s 58ms/step\n",
      "1/1 [==============================] - 0s 57ms/step\n",
      "1/1 [==============================] - 0s 58ms/step\n",
      "1/1 [==============================] - 0s 58ms/step\n",
      "1/1 [==============================] - 0s 58ms/step\n",
      "1/1 [==============================] - 0s 60ms/step\n",
      "1/1 [==============================] - 0s 58ms/step\n",
      "1/1 [==============================] - 0s 60ms/step\n",
      "1/1 [==============================] - 0s 58ms/step\n",
      "1/1 [==============================] - 0s 59ms/step\n",
      "1/1 [==============================] - 0s 58ms/step\n",
      "1/1 [==============================] - 0s 57ms/step\n",
      "1/1 [==============================] - 0s 58ms/step\n",
      "1/1 [==============================] - 0s 59ms/step\n",
      "1/1 [==============================] - 0s 59ms/step\n",
      "1/1 [==============================] - 0s 62ms/step\n",
      "1/1 [==============================] - 0s 60ms/step\n",
      "1/1 [==============================] - 0s 61ms/step\n",
      "1/1 [==============================] - 0s 58ms/step\n",
      "1/1 [==============================] - 0s 60ms/step\n",
      "1/1 [==============================] - 0s 59ms/step\n",
      "1/1 [==============================] - 0s 60ms/step\n",
      "1/1 [==============================] - 0s 58ms/step\n",
      "1/1 [==============================] - 0s 59ms/step\n",
      "1/1 [==============================] - 0s 59ms/step\n",
      "1/1 [==============================] - 0s 61ms/step\n",
      "1/1 [==============================] - 0s 60ms/step\n",
      "1/1 [==============================] - 0s 59ms/step\n",
      "1/1 [==============================] - 0s 58ms/step\n",
      "1/1 [==============================] - 0s 59ms/step\n",
      "1/1 [==============================] - 0s 58ms/step\n",
      "1/1 [==============================] - 0s 58ms/step\n",
      "1/1 [==============================] - 0s 57ms/step\n",
      "1/1 [==============================] - 0s 59ms/step\n",
      "1/1 [==============================] - 0s 58ms/step\n",
      "1/1 [==============================] - 0s 92ms/step\n",
      "1/1 [==============================] - 0s 93ms/step\n",
      "1/1 [==============================] - 0s 80ms/step\n",
      "1/1 [==============================] - 0s 81ms/step\n",
      "1/1 [==============================] - 0s 83ms/step\n",
      "1/1 [==============================] - 0s 61ms/step\n",
      "1/1 [==============================] - 0s 60ms/step\n",
      "1/1 [==============================] - 0s 58ms/step\n",
      "1/1 [==============================] - 0s 61ms/step\n",
      "1/1 [==============================] - 0s 60ms/step\n",
      "1/1 [==============================] - 0s 60ms/step\n",
      "1/1 [==============================] - 0s 59ms/step\n",
      "1/1 [==============================] - 0s 60ms/step\n",
      "1/1 [==============================] - 0s 58ms/step\n",
      "1/1 [==============================] - 0s 59ms/step\n",
      "1/1 [==============================] - 0s 58ms/step\n",
      "1/1 [==============================] - 0s 58ms/step\n",
      "1/1 [==============================] - 0s 58ms/step\n",
      "1/1 [==============================] - 0s 59ms/step\n",
      "1/1 [==============================] - 0s 59ms/step\n",
      "1/1 [==============================] - 0s 59ms/step\n",
      "1/1 [==============================] - 0s 58ms/step\n",
      "1/1 [==============================] - 0s 59ms/step\n",
      "1/1 [==============================] - 0s 59ms/step\n",
      "1/1 [==============================] - 0s 58ms/step\n",
      "1/1 [==============================] - 0s 58ms/step\n",
      "1/1 [==============================] - 0s 58ms/step\n",
      "1/1 [==============================] - 0s 58ms/step\n",
      "1/1 [==============================] - 0s 59ms/step\n",
      "1/1 [==============================] - 0s 60ms/step\n",
      "1/1 [==============================] - 0s 59ms/step\n",
      "1/1 [==============================] - 0s 58ms/step\n",
      "1/1 [==============================] - 0s 59ms/step\n",
      "1/1 [==============================] - 0s 59ms/step\n",
      "1/1 [==============================] - 0s 60ms/step\n",
      "1/1 [==============================] - 0s 58ms/step\n",
      "1/1 [==============================] - 0s 59ms/step\n",
      "1/1 [==============================] - 0s 59ms/step\n",
      "1/1 [==============================] - 0s 60ms/step\n",
      "1/1 [==============================] - 0s 60ms/step\n",
      "1/1 [==============================] - 0s 61ms/step\n",
      "1/1 [==============================] - 0s 58ms/step\n",
      "1/1 [==============================] - 0s 60ms/step\n",
      "1/1 [==============================] - 0s 56ms/step\n",
      "1/1 [==============================] - 0s 56ms/step\n",
      "1/1 [==============================] - 0s 56ms/step\n",
      "1/1 [==============================] - 0s 55ms/step\n",
      "1/1 [==============================] - 0s 54ms/step\n",
      "1/1 [==============================] - 0s 52ms/step\n",
      "1/1 [==============================] - 0s 51ms/step\n",
      "1/1 [==============================] - 0s 51ms/step\n",
      "1/1 [==============================] - 0s 52ms/step\n",
      "1/1 [==============================] - 0s 51ms/step\n",
      "1/1 [==============================] - 0s 51ms/step\n",
      "1/1 [==============================] - 0s 56ms/step\n",
      "1/1 [==============================] - 0s 58ms/step\n",
      "1/1 [==============================] - 0s 51ms/step\n",
      "1/1 [==============================] - 0s 52ms/step\n",
      "1/1 [==============================] - 0s 52ms/step\n",
      "1/1 [==============================] - 0s 51ms/step\n",
      "1/1 [==============================] - 0s 51ms/step\n",
      "1/1 [==============================] - 0s 51ms/step\n",
      "1/1 [==============================] - 0s 51ms/step\n",
      "1/1 [==============================] - 0s 53ms/step\n",
      "1/1 [==============================] - 0s 51ms/step\n",
      "1/1 [==============================] - 0s 50ms/step\n",
      "1/1 [==============================] - 0s 51ms/step\n",
      "1/1 [==============================] - 0s 50ms/step\n",
      "1/1 [==============================] - 0s 51ms/step\n",
      "1/1 [==============================] - 0s 52ms/step\n",
      "1/1 [==============================] - 0s 53ms/step\n",
      "1/1 [==============================] - 0s 52ms/step\n",
      "1/1 [==============================] - 0s 51ms/step\n",
      "1/1 [==============================] - 0s 56ms/step\n",
      "1/1 [==============================] - 0s 57ms/step\n",
      "1/1 [==============================] - 0s 55ms/step\n",
      "1/1 [==============================] - 0s 52ms/step\n",
      "1/1 [==============================] - 0s 51ms/step\n",
      "1/1 [==============================] - 0s 50ms/step\n",
      "1/1 [==============================] - 0s 50ms/step\n",
      "1/1 [==============================] - 0s 50ms/step\n",
      "1/1 [==============================] - 0s 53ms/step\n",
      "1/1 [==============================] - 0s 52ms/step\n",
      "1/1 [==============================] - 0s 51ms/step\n",
      "1/1 [==============================] - 0s 52ms/step\n",
      "1/1 [==============================] - 0s 50ms/step\n",
      "1/1 [==============================] - 0s 51ms/step\n",
      "1/1 [==============================] - 0s 52ms/step\n",
      "1/1 [==============================] - 0s 51ms/step\n",
      "1/1 [==============================] - 0s 52ms/step\n",
      "1/1 [==============================] - 0s 52ms/step\n",
      "1/1 [==============================] - 0s 53ms/step\n",
      "1/1 [==============================] - 0s 55ms/step\n",
      "1/1 [==============================] - 0s 53ms/step\n",
      "1/1 [==============================] - 0s 54ms/step\n",
      "1/1 [==============================] - 0s 52ms/step\n",
      "1/1 [==============================] - 0s 53ms/step\n",
      "1/1 [==============================] - 0s 52ms/step\n",
      "1/1 [==============================] - 0s 55ms/step\n",
      "1/1 [==============================] - 0s 55ms/step\n",
      "1/1 [==============================] - 0s 54ms/step\n",
      "1/1 [==============================] - 0s 83ms/step\n",
      "1/1 [==============================] - 0s 81ms/step\n",
      "1/1 [==============================] - 0s 79ms/step\n",
      "1/1 [==============================] - 0s 76ms/step\n",
      "1/1 [==============================] - 0s 77ms/step\n",
      "1/1 [==============================] - 0s 79ms/step\n",
      "1/1 [==============================] - 0s 77ms/step\n",
      "1/1 [==============================] - 0s 76ms/step\n",
      "1/1 [==============================] - 0s 129ms/step\n",
      "1/1 [==============================] - 0s 245ms/step\n",
      "1/1 [==============================] - 0s 237ms/step\n",
      "1/1 [==============================] - 0s 268ms/step\n",
      "1/1 [==============================] - 0s 122ms/step\n",
      "1/1 [==============================] - 0s 80ms/step\n",
      "1/1 [==============================] - 0s 77ms/step\n",
      "1/1 [==============================] - 0s 78ms/step\n",
      "1/1 [==============================] - 0s 81ms/step\n",
      "1/1 [==============================] - 0s 80ms/step\n",
      "1/1 [==============================] - 0s 78ms/step\n",
      "1/1 [==============================] - 0s 80ms/step\n",
      "1/1 [==============================] - 0s 75ms/step\n",
      "1/1 [==============================] - 0s 81ms/step\n",
      "1/1 [==============================] - 0s 78ms/step\n",
      "1/1 [==============================] - 0s 78ms/step\n",
      "1/1 [==============================] - 0s 80ms/step\n",
      "1/1 [==============================] - 0s 76ms/step\n",
      "1/1 [==============================] - 0s 76ms/step\n",
      "1/1 [==============================] - 0s 78ms/step\n"
     ]
    }
   ],
   "source": [
    "for batch in test.as_numpy_iterator():\n",
    "    X_true, y_true = batch\n",
    "    yhat = model.predict(X_true)\n",
    "    \n",
    "    y_true = y_true.flatten()\n",
    "    yhat = yhat.flatten()\n",
    "    \n",
    "    prec.update_state(y_true, yhat)\n",
    "    rec.update_state(y_true, yhat)\n",
    "    acc.update_state(y_true, yhat)"
   ]
  },
  {
   "cell_type": "code",
   "execution_count": 36,
   "id": "589611dc",
   "metadata": {
    "execution": {
     "iopub.execute_input": "2023-02-21T06:51:38.049683Z",
     "iopub.status.busy": "2023-02-21T06:51:38.049286Z",
     "iopub.status.idle": "2023-02-21T06:51:38.059106Z",
     "shell.execute_reply": "2023-02-21T06:51:38.057876Z"
    },
    "papermill": {
     "duration": 2.811301,
     "end_time": "2023-02-21T06:51:38.061242",
     "exception": false,
     "start_time": "2023-02-21T06:51:35.249941",
     "status": "completed"
    },
    "tags": []
   },
   "outputs": [
    {
     "name": "stdout",
     "output_type": "stream",
     "text": [
      "Precision: 0.8745226263999939, Recall: 0.8836824893951416, Accuracy: 0.5245737433433533\n"
     ]
    }
   ],
   "source": [
    "print(f\"Precision: {prec.result().numpy()}, Recall: {rec.result().numpy()}, Accuracy: {acc.result().numpy()}\")"
   ]
  },
  {
   "cell_type": "code",
   "execution_count": 37,
   "id": "65053246",
   "metadata": {
    "execution": {
     "iopub.execute_input": "2023-02-21T06:51:44.080608Z",
     "iopub.status.busy": "2023-02-21T06:51:44.080040Z",
     "iopub.status.idle": "2023-02-21T06:51:44.092139Z",
     "shell.execute_reply": "2023-02-21T06:51:44.091123Z"
    },
    "papermill": {
     "duration": 2.969798,
     "end_time": "2023-02-21T06:51:44.094447",
     "exception": false,
     "start_time": "2023-02-21T06:51:41.124649",
     "status": "completed"
    },
    "tags": []
   },
   "outputs": [
    {
     "name": "stdout",
     "output_type": "stream",
     "text": [
      "Precision shows that out of 100 predicted positives, 87 were correct.  \n",
      "Recall shows that out of 100 actual positives, 88 are correctly predicted.  \n",
      "Accuracy shows that our model is 52% accurate and has an error of 48%\n"
     ]
    }
   ],
   "source": [
    "print(f'''Precision shows that out of 100 predicted positives, {round(prec.result().numpy()*100)} were correct.  \n",
    "Recall shows that out of 100 actual positives, {round(rec.result().numpy()*100)} are correctly predicted.  \n",
    "Accuracy shows that our model is {round(acc.result().numpy()*100)}% accurate and has an error of {100 - (round(acc.result().numpy()*100))}%''')"
   ]
  },
  {
   "cell_type": "markdown",
   "id": "ac3b3cca",
   "metadata": {
    "papermill": {
     "duration": 2.814748,
     "end_time": "2023-02-21T06:51:49.702428",
     "exception": false,
     "start_time": "2023-02-21T06:51:46.887680",
     "status": "completed"
    },
    "tags": []
   },
   "source": [
    "## saving the model weights\n"
   ]
  },
  {
   "cell_type": "code",
   "execution_count": 38,
   "id": "ee87c8ed",
   "metadata": {
    "execution": {
     "iopub.execute_input": "2023-02-21T06:51:55.596401Z",
     "iopub.status.busy": "2023-02-21T06:51:55.595847Z",
     "iopub.status.idle": "2023-02-21T06:51:55.733471Z",
     "shell.execute_reply": "2023-02-21T06:51:55.732529Z"
    },
    "papermill": {
     "duration": 2.948824,
     "end_time": "2023-02-21T06:51:55.735878",
     "exception": false,
     "start_time": "2023-02-21T06:51:52.787054",
     "status": "completed"
    },
    "tags": []
   },
   "outputs": [],
   "source": [
    "model.save('hate_model.h5')"
   ]
  },
  {
   "cell_type": "markdown",
   "id": "3c1e2d6c",
   "metadata": {
    "papermill": {
     "duration": 3.469704,
     "end_time": "2023-02-21T06:52:02.166123",
     "exception": false,
     "start_time": "2023-02-21T06:51:58.696419",
     "status": "completed"
    },
    "tags": []
   },
   "source": [
    "## Loading and testing the saved model\n"
   ]
  },
  {
   "cell_type": "code",
   "execution_count": 39,
   "id": "4077c1f6",
   "metadata": {
    "execution": {
     "iopub.execute_input": "2023-02-21T06:52:07.891628Z",
     "iopub.status.busy": "2023-02-21T06:52:07.891268Z",
     "iopub.status.idle": "2023-02-21T06:52:08.702112Z",
     "shell.execute_reply": "2023-02-21T06:52:08.701069Z"
    },
    "papermill": {
     "duration": 3.722129,
     "end_time": "2023-02-21T06:52:08.704781",
     "exception": false,
     "start_time": "2023-02-21T06:52:04.982652",
     "status": "completed"
    },
    "tags": []
   },
   "outputs": [],
   "source": [
    "loaded_model = tf.keras.models.load_model('hate_model.h5')"
   ]
  },
  {
   "cell_type": "code",
   "execution_count": 40,
   "id": "16180d00",
   "metadata": {
    "execution": {
     "iopub.execute_input": "2023-02-21T06:52:14.630628Z",
     "iopub.status.busy": "2023-02-21T06:52:14.630028Z",
     "iopub.status.idle": "2023-02-21T06:52:15.423332Z",
     "shell.execute_reply": "2023-02-21T06:52:15.422376Z"
    },
    "papermill": {
     "duration": 3.879291,
     "end_time": "2023-02-21T06:52:15.425534",
     "exception": false,
     "start_time": "2023-02-21T06:52:11.546243",
     "status": "completed"
    },
    "tags": []
   },
   "outputs": [
    {
     "name": "stdout",
     "output_type": "stream",
     "text": [
      "1/1 [==============================] - 1s 691ms/step\n"
     ]
    }
   ],
   "source": [
    "# Testing the loaded Model\n",
    "input_str = vectorizer('hey there how are you?')\n",
    "res = loaded_model.predict(np.expand_dims(input_str, 0))"
   ]
  },
  {
   "cell_type": "code",
   "execution_count": 41,
   "id": "05ee465a",
   "metadata": {
    "execution": {
     "iopub.execute_input": "2023-02-21T06:52:21.174959Z",
     "iopub.status.busy": "2023-02-21T06:52:21.174587Z",
     "iopub.status.idle": "2023-02-21T06:52:21.181658Z",
     "shell.execute_reply": "2023-02-21T06:52:21.180308Z"
    },
    "papermill": {
     "duration": 2.818972,
     "end_time": "2023-02-21T06:52:21.184935",
     "exception": false,
     "start_time": "2023-02-21T06:52:18.365963",
     "status": "completed"
    },
    "tags": []
   },
   "outputs": [
    {
     "name": "stdout",
     "output_type": "stream",
     "text": [
      "Index(['toxic', 'severe_toxic', 'obscene', 'threat', 'insult',\n",
      "       'identity_hate'],\n",
      "      dtype='object')\n",
      "[[2.3662703e-02 8.9048292e-08 2.6710299e-03 4.8357516e-04 2.4689047e-03\n",
      "  6.5556698e-04]]\n"
     ]
    }
   ],
   "source": [
    "print(data.columns[2:])\n",
    "print(res)"
   ]
  },
  {
   "cell_type": "markdown",
   "id": "60082325",
   "metadata": {
    "execution": {
     "iopub.execute_input": "2023-02-21T04:39:48.626814Z",
     "iopub.status.busy": "2023-02-21T04:39:48.626406Z",
     "iopub.status.idle": "2023-02-21T04:39:48.631759Z",
     "shell.execute_reply": "2023-02-21T04:39:48.630402Z",
     "shell.execute_reply.started": "2023-02-21T04:39:48.626781Z"
    },
    "papermill": {
     "duration": 2.795841,
     "end_time": "2023-02-21T06:52:27.107455",
     "exception": false,
     "start_time": "2023-02-21T06:52:24.311614",
     "status": "completed"
    },
    "tags": []
   },
   "source": [
    "## Creating a model interface using gradio"
   ]
  },
  {
   "cell_type": "code",
   "execution_count": 42,
   "id": "be3653a4",
   "metadata": {
    "execution": {
     "iopub.execute_input": "2023-02-21T06:52:33.266877Z",
     "iopub.status.busy": "2023-02-21T06:52:33.266255Z",
     "iopub.status.idle": "2023-02-21T06:52:51.078836Z",
     "shell.execute_reply": "2023-02-21T06:52:51.077548Z"
    },
    "papermill": {
     "duration": 21.040249,
     "end_time": "2023-02-21T06:52:51.081323",
     "exception": false,
     "start_time": "2023-02-21T06:52:30.041074",
     "status": "completed"
    },
    "tags": []
   },
   "outputs": [
    {
     "name": "stdout",
     "output_type": "stream",
     "text": [
      "/bin/bash: /opt/conda/lib/libtinfo.so.6: no version information available (required by /bin/bash)\r\n",
      "Collecting gradio\r\n",
      "  Downloading gradio-3.19.1-py3-none-any.whl (14.2 MB)\r\n",
      "\u001b[2K     \u001b[90m━━━━━━━━━━━━━━━━━━━━━━━━━━━━━━━━━━━━━━━━\u001b[0m \u001b[32m14.2/14.2 MB\u001b[0m \u001b[31m48.8 MB/s\u001b[0m eta \u001b[36m0:00:00\u001b[0m\r\n",
      "\u001b[?25hRequirement already satisfied: jinja2 in /opt/conda/lib/python3.7/site-packages (3.1.2)\r\n",
      "Requirement already satisfied: requests in /opt/conda/lib/python3.7/site-packages (from gradio) (2.28.1)\r\n",
      "Requirement already satisfied: mdit-py-plugins<=0.3.3 in /opt/conda/lib/python3.7/site-packages (from gradio) (0.3.0)\r\n",
      "Collecting pycryptodome\r\n",
      "  Downloading pycryptodome-3.17-cp35-abi3-manylinux_2_17_x86_64.manylinux2014_x86_64.whl (2.1 MB)\r\n",
      "\u001b[2K     \u001b[90m━━━━━━━━━━━━━━━━━━━━━━━━━━━━━━━━━━━━━━━━\u001b[0m \u001b[32m2.1/2.1 MB\u001b[0m \u001b[31m68.9 MB/s\u001b[0m eta \u001b[36m0:00:00\u001b[0m\r\n",
      "\u001b[?25hRequirement already satisfied: orjson in /opt/conda/lib/python3.7/site-packages (from gradio) (3.8.0)\r\n",
      "Requirement already satisfied: pandas in /opt/conda/lib/python3.7/site-packages (from gradio) (1.3.5)\r\n",
      "Collecting aiofiles\r\n",
      "  Downloading aiofiles-23.1.0-py3-none-any.whl (14 kB)\r\n",
      "Collecting ffmpy\r\n",
      "  Downloading ffmpy-0.3.0.tar.gz (4.8 kB)\r\n",
      "  Preparing metadata (setup.py) ... \u001b[?25l-\b \bdone\r\n",
      "\u001b[?25hRequirement already satisfied: altair>=4.2.0 in /opt/conda/lib/python3.7/site-packages (from gradio) (4.2.2)\r\n",
      "Requirement already satisfied: markupsafe in /opt/conda/lib/python3.7/site-packages (from gradio) (2.1.2)\r\n",
      "Requirement already satisfied: pydantic in /opt/conda/lib/python3.7/site-packages (from gradio) (1.8.2)\r\n",
      "Collecting python-multipart\r\n",
      "  Downloading python-multipart-0.0.5.tar.gz (32 kB)\r\n",
      "  Preparing metadata (setup.py) ... \u001b[?25l-\b \bdone\r\n",
      "\u001b[?25hRequirement already satisfied: websockets>=10.0 in /opt/conda/lib/python3.7/site-packages (from gradio) (10.4)\r\n",
      "Requirement already satisfied: typing-extensions in /opt/conda/lib/python3.7/site-packages (from gradio) (4.1.1)\r\n",
      "Requirement already satisfied: markdown-it-py[linkify]>=2.0.0 in /opt/conda/lib/python3.7/site-packages (from gradio) (2.1.0)\r\n",
      "Requirement already satisfied: numpy in /opt/conda/lib/python3.7/site-packages (from gradio) (1.21.6)\r\n",
      "Requirement already satisfied: pillow in /opt/conda/lib/python3.7/site-packages (from gradio) (9.2.0)\r\n",
      "Collecting httpx\r\n",
      "  Downloading httpx-0.23.3-py3-none-any.whl (71 kB)\r\n",
      "\u001b[2K     \u001b[90m━━━━━━━━━━━━━━━━━━━━━━━━━━━━━━━━━━━━━━━━\u001b[0m \u001b[32m71.5/71.5 kB\u001b[0m \u001b[31m7.7 MB/s\u001b[0m eta \u001b[36m0:00:00\u001b[0m\r\n",
      "\u001b[?25hRequirement already satisfied: uvicorn in /opt/conda/lib/python3.7/site-packages (from gradio) (0.20.0)\r\n",
      "Requirement already satisfied: pyyaml in /opt/conda/lib/python3.7/site-packages (from gradio) (6.0)\r\n",
      "Requirement already satisfied: fastapi in /opt/conda/lib/python3.7/site-packages (from gradio) (0.92.0)\r\n",
      "Requirement already satisfied: fsspec in /opt/conda/lib/python3.7/site-packages (from gradio) (2023.1.0)\r\n",
      "Requirement already satisfied: pydub in /opt/conda/lib/python3.7/site-packages (from gradio) (0.25.1)\r\n",
      "Requirement already satisfied: matplotlib in /opt/conda/lib/python3.7/site-packages (from gradio) (3.5.3)\r\n",
      "Requirement already satisfied: aiohttp in /opt/conda/lib/python3.7/site-packages (from gradio) (3.8.1)\r\n",
      "Requirement already satisfied: entrypoints in /opt/conda/lib/python3.7/site-packages (from altair>=4.2.0->gradio) (0.4)\r\n",
      "Requirement already satisfied: toolz in /opt/conda/lib/python3.7/site-packages (from altair>=4.2.0->gradio) (0.11.2)\r\n",
      "Requirement already satisfied: jsonschema>=3.0 in /opt/conda/lib/python3.7/site-packages (from altair>=4.2.0->gradio) (4.16.0)\r\n",
      "Requirement already satisfied: mdurl~=0.1 in /opt/conda/lib/python3.7/site-packages (from markdown-it-py[linkify]>=2.0.0->gradio) (0.1.0)\r\n",
      "Collecting linkify-it-py~=1.0\r\n",
      "  Downloading linkify_it_py-1.0.3-py3-none-any.whl (19 kB)\r\n",
      "Requirement already satisfied: python-dateutil>=2.7.3 in /opt/conda/lib/python3.7/site-packages (from pandas->gradio) (2.8.2)\r\n",
      "Requirement already satisfied: pytz>=2017.3 in /opt/conda/lib/python3.7/site-packages (from pandas->gradio) (2022.2.1)\r\n",
      "Requirement already satisfied: yarl<2.0,>=1.0 in /opt/conda/lib/python3.7/site-packages (from aiohttp->gradio) (1.7.2)\r\n",
      "Requirement already satisfied: async-timeout<5.0,>=4.0.0a3 in /opt/conda/lib/python3.7/site-packages (from aiohttp->gradio) (4.0.2)\r\n",
      "Requirement already satisfied: attrs>=17.3.0 in /opt/conda/lib/python3.7/site-packages (from aiohttp->gradio) (22.1.0)\r\n",
      "Requirement already satisfied: asynctest==0.13.0 in /opt/conda/lib/python3.7/site-packages (from aiohttp->gradio) (0.13.0)\r\n",
      "Requirement already satisfied: frozenlist>=1.1.1 in /opt/conda/lib/python3.7/site-packages (from aiohttp->gradio) (1.3.1)\r\n",
      "Requirement already satisfied: charset-normalizer<3.0,>=2.0 in /opt/conda/lib/python3.7/site-packages (from aiohttp->gradio) (2.1.1)\r\n",
      "Requirement already satisfied: aiosignal>=1.1.2 in /opt/conda/lib/python3.7/site-packages (from aiohttp->gradio) (1.2.0)\r\n",
      "Requirement already satisfied: multidict<7.0,>=4.5 in /opt/conda/lib/python3.7/site-packages (from aiohttp->gradio) (6.0.2)\r\n",
      "Requirement already satisfied: starlette<0.26.0,>=0.25.0 in /opt/conda/lib/python3.7/site-packages (from fastapi->gradio) (0.25.0)\r\n",
      "Collecting rfc3986[idna2008]<2,>=1.3\r\n",
      "  Downloading rfc3986-1.5.0-py2.py3-none-any.whl (31 kB)\r\n",
      "Requirement already satisfied: certifi in /opt/conda/lib/python3.7/site-packages (from httpx->gradio) (2022.12.7)\r\n",
      "Collecting httpcore<0.17.0,>=0.15.0\r\n",
      "  Downloading httpcore-0.16.3-py3-none-any.whl (69 kB)\r\n",
      "\u001b[2K     \u001b[90m━━━━━━━━━━━━━━━━━━━━━━━━━━━━━━━━━━━━━━━━\u001b[0m \u001b[32m69.6/69.6 kB\u001b[0m \u001b[31m7.1 MB/s\u001b[0m eta \u001b[36m0:00:00\u001b[0m\r\n",
      "\u001b[?25hRequirement already satisfied: sniffio in /opt/conda/lib/python3.7/site-packages (from httpx->gradio) (1.3.0)\r\n",
      "Requirement already satisfied: cycler>=0.10 in /opt/conda/lib/python3.7/site-packages (from matplotlib->gradio) (0.11.0)\r\n",
      "Requirement already satisfied: pyparsing>=2.2.1 in /opt/conda/lib/python3.7/site-packages (from matplotlib->gradio) (3.0.9)\r\n",
      "Requirement already satisfied: fonttools>=4.22.0 in /opt/conda/lib/python3.7/site-packages (from matplotlib->gradio) (4.37.1)\r\n",
      "Requirement already satisfied: packaging>=20.0 in /opt/conda/lib/python3.7/site-packages (from matplotlib->gradio) (23.0)\r\n",
      "Requirement already satisfied: kiwisolver>=1.0.1 in /opt/conda/lib/python3.7/site-packages (from matplotlib->gradio) (1.4.4)\r\n",
      "Requirement already satisfied: six>=1.4.0 in /opt/conda/lib/python3.7/site-packages (from python-multipart->gradio) (1.16.0)\r\n",
      "Requirement already satisfied: idna<4,>=2.5 in /opt/conda/lib/python3.7/site-packages (from requests->gradio) (3.3)\r\n",
      "Requirement already satisfied: urllib3<1.27,>=1.21.1 in /opt/conda/lib/python3.7/site-packages (from requests->gradio) (1.26.11)\r\n",
      "Requirement already satisfied: h11>=0.8 in /opt/conda/lib/python3.7/site-packages (from uvicorn->gradio) (0.14.0)\r\n",
      "Requirement already satisfied: click>=7.0 in /opt/conda/lib/python3.7/site-packages (from uvicorn->gradio) (8.1.3)\r\n",
      "Requirement already satisfied: importlib-metadata in /opt/conda/lib/python3.7/site-packages (from click>=7.0->uvicorn->gradio) (6.0.0)\r\n",
      "Requirement already satisfied: anyio<5.0,>=3.0 in /opt/conda/lib/python3.7/site-packages (from httpcore<0.17.0,>=0.15.0->httpx->gradio) (3.6.1)\r\n",
      "Requirement already satisfied: importlib-resources>=1.4.0 in /opt/conda/lib/python3.7/site-packages (from jsonschema>=3.0->altair>=4.2.0->gradio) (5.10.2)\r\n",
      "Requirement already satisfied: pkgutil-resolve-name>=1.3.10 in /opt/conda/lib/python3.7/site-packages (from jsonschema>=3.0->altair>=4.2.0->gradio) (1.3.10)\r\n",
      "Requirement already satisfied: pyrsistent!=0.17.0,!=0.17.1,!=0.17.2,>=0.14.0 in /opt/conda/lib/python3.7/site-packages (from jsonschema>=3.0->altair>=4.2.0->gradio) (0.18.1)\r\n",
      "Collecting uc-micro-py\r\n",
      "  Downloading uc_micro_py-1.0.1-py3-none-any.whl (6.2 kB)\r\n",
      "Requirement already satisfied: zipp>=3.1.0 in /opt/conda/lib/python3.7/site-packages (from importlib-resources>=1.4.0->jsonschema>=3.0->altair>=4.2.0->gradio) (3.8.1)\r\n",
      "Building wheels for collected packages: ffmpy, python-multipart\r\n",
      "  Building wheel for ffmpy (setup.py) ... \u001b[?25l-\b \b\\\b \bdone\r\n",
      "\u001b[?25h  Created wheel for ffmpy: filename=ffmpy-0.3.0-py3-none-any.whl size=4712 sha256=e13e8fcc3df7b0004393500d99c0b964c9b2f73690790b980b5eaec7de3fe5de\r\n",
      "  Stored in directory: /root/.cache/pip/wheels/13/e4/6c/e8059816e86796a597c6e6b0d4c880630f51a1fcfa0befd5e6\r\n",
      "  Building wheel for python-multipart (setup.py) ... \u001b[?25l-\b \bdone\r\n",
      "\u001b[?25h  Created wheel for python-multipart: filename=python_multipart-0.0.5-py3-none-any.whl size=31678 sha256=4f6b069f4fb45e8ca1781969367c374385c71f2336a5348edb7a3b665ffeb856\r\n",
      "  Stored in directory: /root/.cache/pip/wheels/2c/41/7c/bfd1c180534ffdcc0972f78c5758f89881602175d48a8bcd2c\r\n",
      "Successfully built ffmpy python-multipart\r\n",
      "Installing collected packages: rfc3986, ffmpy, uc-micro-py, python-multipart, pycryptodome, aiofiles, linkify-it-py, httpcore, httpx, gradio\r\n",
      "Successfully installed aiofiles-23.1.0 ffmpy-0.3.0 gradio-3.19.1 httpcore-0.16.3 httpx-0.23.3 linkify-it-py-1.0.3 pycryptodome-3.17 python-multipart-0.0.5 rfc3986-1.5.0 uc-micro-py-1.0.1\r\n",
      "\u001b[33mWARNING: Running pip as the 'root' user can result in broken permissions and conflicting behaviour with the system package manager. It is recommended to use a virtual environment instead: https://pip.pypa.io/warnings/venv\u001b[0m\u001b[33m\r\n",
      "\u001b[0m"
     ]
    }
   ],
   "source": [
    "!pip install gradio jinja2"
   ]
  },
  {
   "cell_type": "code",
   "execution_count": 43,
   "id": "370432b6",
   "metadata": {
    "execution": {
     "iopub.execute_input": "2023-02-21T06:52:57.182819Z",
     "iopub.status.busy": "2023-02-21T06:52:57.182234Z",
     "iopub.status.idle": "2023-02-21T06:52:58.026162Z",
     "shell.execute_reply": "2023-02-21T06:52:58.025214Z"
    },
    "papermill": {
     "duration": 4.059199,
     "end_time": "2023-02-21T06:52:58.028733",
     "exception": false,
     "start_time": "2023-02-21T06:52:53.969534",
     "status": "completed"
    },
    "tags": []
   },
   "outputs": [],
   "source": [
    "import gradio as gr"
   ]
  },
  {
   "cell_type": "markdown",
   "id": "955c4d2d",
   "metadata": {
    "papermill": {
     "duration": 3.304794,
     "end_time": "2023-02-21T06:53:04.220199",
     "exception": false,
     "start_time": "2023-02-21T06:53:00.915405",
     "status": "completed"
    },
    "tags": []
   },
   "source": [
    "Lets Create a function to display results\n"
   ]
  },
  {
   "cell_type": "code",
   "execution_count": 44,
   "id": "ebe23d03",
   "metadata": {
    "execution": {
     "iopub.execute_input": "2023-02-21T06:53:10.215412Z",
     "iopub.status.busy": "2023-02-21T06:53:10.214723Z",
     "iopub.status.idle": "2023-02-21T06:53:10.221140Z",
     "shell.execute_reply": "2023-02-21T06:53:10.220182Z"
    },
    "papermill": {
     "duration": 3.121963,
     "end_time": "2023-02-21T06:53:10.223212",
     "exception": false,
     "start_time": "2023-02-21T06:53:07.101249",
     "status": "completed"
    },
    "tags": []
   },
   "outputs": [],
   "source": [
    "def predict_comment_hate(comment):\n",
    "    comment_vectorized = vectorizer(comment)\n",
    "    results = model.predict(np.expand_dims(comment_vectorized,0))\n",
    "    \n",
    "    text = ''\n",
    "    for idx, col in enumerate(data.columns[2:]):\n",
    "        text += '{}: {}\\n'.format(col, results[0][idx]>0.5)\n",
    "        \n",
    "    return text"
   ]
  },
  {
   "cell_type": "code",
   "execution_count": 45,
   "id": "b40bdba9",
   "metadata": {
    "execution": {
     "iopub.execute_input": "2023-02-21T06:53:15.841779Z",
     "iopub.status.busy": "2023-02-21T06:53:15.841228Z",
     "iopub.status.idle": "2023-02-21T06:53:15.965346Z",
     "shell.execute_reply": "2023-02-21T06:53:15.964127Z"
    },
    "papermill": {
     "duration": 2.948158,
     "end_time": "2023-02-21T06:53:15.967423",
     "exception": false,
     "start_time": "2023-02-21T06:53:13.019265",
     "status": "completed"
    },
    "tags": []
   },
   "outputs": [
    {
     "name": "stdout",
     "output_type": "stream",
     "text": [
      "1/1 [==============================] - 0s 69ms/step\n",
      "toxic: True\n",
      "severe_toxic: False\n",
      "obscene: False\n",
      "threat: False\n",
      "insult: False\n",
      "identity_hate: False\n",
      "\n"
     ]
    }
   ],
   "source": [
    "print(predict_comment_hate(\"i will hurt you\"))"
   ]
  },
  {
   "cell_type": "code",
   "execution_count": 46,
   "id": "590bf2bb",
   "metadata": {
    "execution": {
     "iopub.execute_input": "2023-02-21T06:53:22.160771Z",
     "iopub.status.busy": "2023-02-21T06:53:22.160381Z",
     "iopub.status.idle": "2023-02-21T06:53:22.976855Z",
     "shell.execute_reply": "2023-02-21T06:53:22.975948Z"
    },
    "papermill": {
     "duration": 3.735332,
     "end_time": "2023-02-21T06:53:22.979579",
     "exception": false,
     "start_time": "2023-02-21T06:53:19.244247",
     "status": "completed"
    },
    "tags": []
   },
   "outputs": [
    {
     "name": "stderr",
     "output_type": "stream",
     "text": [
      "/opt/conda/lib/python3.7/site-packages/gradio/inputs.py:28: UserWarning: Usage of gradio.inputs is deprecated, and will not be supported in the future, please import your component from gradio.components\n",
      "  \"Usage of gradio.inputs is deprecated, and will not be supported in the future, please import your component from gradio.components\",\n",
      "/opt/conda/lib/python3.7/site-packages/gradio/deprecation.py:40: UserWarning: `optional` parameter is deprecated, and it has no effect\n",
      "  warnings.warn(value)\n",
      "/opt/conda/lib/python3.7/site-packages/gradio/deprecation.py:40: UserWarning: `numeric` parameter is deprecated, and it has no effect\n",
      "  warnings.warn(value)\n"
     ]
    }
   ],
   "source": [
    "interface = gr.Interface(fn= predict_comment_hate, inputs= gr.inputs.Textbox(lines= 2, placeholder= 'Enter the Comment'), outputs = 'text')"
   ]
  },
  {
   "cell_type": "code",
   "execution_count": 47,
   "id": "a6b689c2",
   "metadata": {
    "execution": {
     "iopub.execute_input": "2023-02-21T06:53:28.643459Z",
     "iopub.status.busy": "2023-02-21T06:53:28.643063Z",
     "iopub.status.idle": "2023-02-21T06:53:34.094186Z",
     "shell.execute_reply": "2023-02-21T06:53:34.092771Z"
    },
    "papermill": {
     "duration": 8.261998,
     "end_time": "2023-02-21T06:53:34.097446",
     "exception": false,
     "start_time": "2023-02-21T06:53:25.835448",
     "status": "completed"
    },
    "tags": []
   },
   "outputs": [
    {
     "name": "stdout",
     "output_type": "stream",
     "text": [
      "Running on local URL:  http://127.0.0.1:7860\n",
      "Running on public URL: https://718032cd55f45f7775.gradio.live\n",
      "\n",
      "This share link expires in 72 hours. For free permanent hosting and GPU upgrades (NEW!), check out Spaces: https://huggingface.co/spaces\n"
     ]
    },
    {
     "data": {
      "text/html": [
       "<div><iframe src=\"https://718032cd55f45f7775.gradio.live\" width=\"100%\" height=\"500\" allow=\"autoplay; camera; microphone; clipboard-read; clipboard-write;\" frameborder=\"0\" allowfullscreen></iframe></div>"
      ],
      "text/plain": [
       "<IPython.core.display.HTML object>"
      ]
     },
     "metadata": {},
     "output_type": "display_data"
    },
    {
     "data": {
      "text/plain": []
     },
     "execution_count": 47,
     "metadata": {},
     "output_type": "execute_result"
    }
   ],
   "source": [
    "interface.launch(share= True)"
   ]
  }
 ],
 "metadata": {
  "kernelspec": {
   "display_name": "Python 3",
   "language": "python",
   "name": "python3"
  },
  "language_info": {
   "codemirror_mode": {
    "name": "ipython",
    "version": 3
   },
   "file_extension": ".py",
   "mimetype": "text/x-python",
   "name": "python",
   "nbconvert_exporter": "python",
   "pygments_lexer": "ipython3",
   "version": "3.9.1 (tags/v3.9.1:1e5d33e, Dec  7 2020, 17:08:21) [MSC v.1927 64 bit (AMD64)]"
  },
  "papermill": {
   "default_parameters": {},
   "duration": 4945.407511,
   "end_time": "2023-02-21T06:53:40.376503",
   "environment_variables": {},
   "exception": null,
   "input_path": "__notebook__.ipynb",
   "output_path": "__notebook__.ipynb",
   "parameters": {},
   "start_time": "2023-02-21T05:31:14.968992",
   "version": "2.3.4"
  },
  "vscode": {
   "interpreter": {
    "hash": "6daf707862e17be3f0fa751b5d9f5c60e762843d2e0b5ba432bfa461e95d2620"
   }
  }
 },
 "nbformat": 4,
 "nbformat_minor": 5
}
